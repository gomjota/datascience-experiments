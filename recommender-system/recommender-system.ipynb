{
 "cells": [
  {
   "cell_type": "markdown",
   "metadata": {},
   "source": [
    "# Recommender system"
   ]
  },
  {
   "cell_type": "markdown",
   "metadata": {},
   "source": [
    "## Collaborative filtering"
   ]
  },
  {
   "cell_type": "markdown",
   "metadata": {},
   "source": [
    "The data set contains information about users, their gender, their age, and which artists they have listened to on Last.FM. We will not use the entire dataset. For simplicity’s sake we only use songs in Germany and we will transform the data to a item frequency matrix. This means each row will represent a user, and each column represents and artist. For this we use R’s “reshape” package. This is largely administrative, so we will start with the transformed dataset."
   ]
  },
  {
   "cell_type": "markdown",
   "metadata": {},
   "source": [
    "### Item Based Collaborative Filtering "
   ]
  },
  {
   "cell_type": "code",
   "execution_count": 1,
   "metadata": {},
   "outputs": [],
   "source": [
    "data.germany <- read.csv(file=\"data/lastfm-matrix-germany.csv\")"
   ]
  },
  {
   "cell_type": "code",
   "execution_count": 2,
   "metadata": {},
   "outputs": [
    {
     "data": {
      "text/html": [
       "<table>\n",
       "<thead><tr><th scope=col>user</th><th scope=col>a.perfect.circle</th><th scope=col>abba</th><th scope=col>ac.dc</th><th scope=col>adam.green</th><th scope=col>aerosmith</th><th scope=col>afi</th><th scope=col>air</th><th scope=col>alanis.morissette</th><th scope=col>alexisonfire</th><th scope=col>⋯</th><th scope=col>timbaland</th><th scope=col>tom.waits</th><th scope=col>tool</th><th scope=col>tori.amos</th><th scope=col>travis</th><th scope=col>trivium</th><th scope=col>u2</th><th scope=col>underoath</th><th scope=col>volbeat</th><th scope=col>yann.tiersen</th></tr></thead>\n",
       "<tbody>\n",
       "\t<tr><td> 1</td><td>0 </td><td>0 </td><td>0 </td><td>0 </td><td>0 </td><td>0 </td><td>0 </td><td>0 </td><td>0 </td><td>⋯ </td><td>0 </td><td>0 </td><td>0 </td><td>0 </td><td>0 </td><td>0 </td><td>0 </td><td>0 </td><td>0 </td><td>0 </td></tr>\n",
       "\t<tr><td>33</td><td>0 </td><td>0 </td><td>0 </td><td>1 </td><td>0 </td><td>0 </td><td>0 </td><td>0 </td><td>0 </td><td>⋯ </td><td>0 </td><td>0 </td><td>0 </td><td>0 </td><td>0 </td><td>0 </td><td>0 </td><td>0 </td><td>0 </td><td>0 </td></tr>\n",
       "\t<tr><td>42</td><td>0 </td><td>0 </td><td>0 </td><td>0 </td><td>0 </td><td>0 </td><td>0 </td><td>0 </td><td>0 </td><td>⋯ </td><td>0 </td><td>0 </td><td>0 </td><td>0 </td><td>0 </td><td>0 </td><td>0 </td><td>0 </td><td>0 </td><td>0 </td></tr>\n",
       "\t<tr><td>51</td><td>0 </td><td>0 </td><td>0 </td><td>0 </td><td>0 </td><td>0 </td><td>0 </td><td>0 </td><td>0 </td><td>⋯ </td><td>0 </td><td>0 </td><td>0 </td><td>0 </td><td>0 </td><td>0 </td><td>0 </td><td>0 </td><td>0 </td><td>0 </td></tr>\n",
       "\t<tr><td>62</td><td>0 </td><td>0 </td><td>0 </td><td>0 </td><td>0 </td><td>0 </td><td>0 </td><td>0 </td><td>0 </td><td>⋯ </td><td>0 </td><td>0 </td><td>0 </td><td>0 </td><td>0 </td><td>0 </td><td>0 </td><td>0 </td><td>0 </td><td>0 </td></tr>\n",
       "\t<tr><td>75</td><td>0 </td><td>0 </td><td>0 </td><td>0 </td><td>0 </td><td>0 </td><td>0 </td><td>0 </td><td>1 </td><td>⋯ </td><td>0 </td><td>0 </td><td>0 </td><td>0 </td><td>0 </td><td>0 </td><td>0 </td><td>0 </td><td>0 </td><td>0 </td></tr>\n",
       "</tbody>\n",
       "</table>\n"
      ],
      "text/latex": [
       "\\begin{tabular}{r|llllllllllllllllllllllllllllllllllllllllllllllllllllllllllllllllllllllllllllllllllllllllllllllllllllllllllllllllllllllllllllllllllllllllllllllllllllllllllllllllllllllllllllllllllllllllllllllllllllllllllllllllllllllllllllllllllllllllllllllllllllllllllllllllllllllllllllllllllllllllllllll}\n",
       " user & a.perfect.circle & abba & ac.dc & adam.green & aerosmith & afi & air & alanis.morissette & alexisonfire & ⋯ & timbaland & tom.waits & tool & tori.amos & travis & trivium & u2 & underoath & volbeat & yann.tiersen\\\\\n",
       "\\hline\n",
       "\t  1 & 0  & 0  & 0  & 0  & 0  & 0  & 0  & 0  & 0  & ⋯  & 0  & 0  & 0  & 0  & 0  & 0  & 0  & 0  & 0  & 0 \\\\\n",
       "\t 33 & 0  & 0  & 0  & 1  & 0  & 0  & 0  & 0  & 0  & ⋯  & 0  & 0  & 0  & 0  & 0  & 0  & 0  & 0  & 0  & 0 \\\\\n",
       "\t 42 & 0  & 0  & 0  & 0  & 0  & 0  & 0  & 0  & 0  & ⋯  & 0  & 0  & 0  & 0  & 0  & 0  & 0  & 0  & 0  & 0 \\\\\n",
       "\t 51 & 0  & 0  & 0  & 0  & 0  & 0  & 0  & 0  & 0  & ⋯  & 0  & 0  & 0  & 0  & 0  & 0  & 0  & 0  & 0  & 0 \\\\\n",
       "\t 62 & 0  & 0  & 0  & 0  & 0  & 0  & 0  & 0  & 0  & ⋯  & 0  & 0  & 0  & 0  & 0  & 0  & 0  & 0  & 0  & 0 \\\\\n",
       "\t 75 & 0  & 0  & 0  & 0  & 0  & 0  & 0  & 0  & 1  & ⋯  & 0  & 0  & 0  & 0  & 0  & 0  & 0  & 0  & 0  & 0 \\\\\n",
       "\\end{tabular}\n"
      ],
      "text/markdown": [
       "\n",
       "user | a.perfect.circle | abba | ac.dc | adam.green | aerosmith | afi | air | alanis.morissette | alexisonfire | ⋯ | timbaland | tom.waits | tool | tori.amos | travis | trivium | u2 | underoath | volbeat | yann.tiersen | \n",
       "|---|---|---|---|---|---|\n",
       "|  1 | 0  | 0  | 0  | 0  | 0  | 0  | 0  | 0  | 0  | ⋯  | 0  | 0  | 0  | 0  | 0  | 0  | 0  | 0  | 0  | 0  | \n",
       "| 33 | 0  | 0  | 0  | 1  | 0  | 0  | 0  | 0  | 0  | ⋯  | 0  | 0  | 0  | 0  | 0  | 0  | 0  | 0  | 0  | 0  | \n",
       "| 42 | 0  | 0  | 0  | 0  | 0  | 0  | 0  | 0  | 0  | ⋯  | 0  | 0  | 0  | 0  | 0  | 0  | 0  | 0  | 0  | 0  | \n",
       "| 51 | 0  | 0  | 0  | 0  | 0  | 0  | 0  | 0  | 0  | ⋯  | 0  | 0  | 0  | 0  | 0  | 0  | 0  | 0  | 0  | 0  | \n",
       "| 62 | 0  | 0  | 0  | 0  | 0  | 0  | 0  | 0  | 0  | ⋯  | 0  | 0  | 0  | 0  | 0  | 0  | 0  | 0  | 0  | 0  | \n",
       "| 75 | 0  | 0  | 0  | 0  | 0  | 0  | 0  | 0  | 1  | ⋯  | 0  | 0  | 0  | 0  | 0  | 0  | 0  | 0  | 0  | 0  | \n",
       "\n",
       "\n"
      ],
      "text/plain": [
       "  user a.perfect.circle abba ac.dc adam.green aerosmith afi air\n",
       "1  1   0                0    0     0          0         0   0  \n",
       "2 33   0                0    0     1          0         0   0  \n",
       "3 42   0                0    0     0          0         0   0  \n",
       "4 51   0                0    0     0          0         0   0  \n",
       "5 62   0                0    0     0          0         0   0  \n",
       "6 75   0                0    0     0          0         0   0  \n",
       "  alanis.morissette alexisonfire ⋯ timbaland tom.waits tool tori.amos travis\n",
       "1 0                 0            ⋯ 0         0         0    0         0     \n",
       "2 0                 0            ⋯ 0         0         0    0         0     \n",
       "3 0                 0            ⋯ 0         0         0    0         0     \n",
       "4 0                 0            ⋯ 0         0         0    0         0     \n",
       "5 0                 0            ⋯ 0         0         0    0         0     \n",
       "6 0                 1            ⋯ 0         0         0    0         0     \n",
       "  trivium u2 underoath volbeat yann.tiersen\n",
       "1 0       0  0         0       0           \n",
       "2 0       0  0         0       0           \n",
       "3 0       0  0         0       0           \n",
       "4 0       0  0         0       0           \n",
       "5 0       0  0         0       0           \n",
       "6 0       0  0         0       0           "
      ]
     },
     "metadata": {},
     "output_type": "display_data"
    }
   ],
   "source": [
    "head(data.germany)"
   ]
  },
  {
   "cell_type": "code",
   "execution_count": 3,
   "metadata": {},
   "outputs": [],
   "source": [
    "# Delete all columns containing \"user\" as name\n",
    "data.germany.clean <- (data.germany[, !(names(data.germany) %in% c(\"user\"))])"
   ]
  },
  {
   "cell_type": "code",
   "execution_count": 4,
   "metadata": {},
   "outputs": [],
   "source": [
    "calculate_cosine_similarity <- function(x,y) {\n",
    "    this.cosine <- sum(x*y) / (sqrt(sum(x^2)) * sqrt(sum(y^2)))\n",
    "    return(this.cosine)\n",
    "}"
   ]
  },
  {
   "cell_type": "code",
   "execution_count": 5,
   "metadata": {},
   "outputs": [],
   "source": [
    "data.germany.clean.similarity <- matrix(NA, nrow=ncol(data.germany.clean), ncol=ncol(data.germany.clean), dimnames=list(colnames(data.germany.clean), colnames(data.germany.clean)))"
   ]
  },
  {
   "cell_type": "code",
   "execution_count": 6,
   "metadata": {},
   "outputs": [
    {
     "data": {
      "text/html": [
       "<table>\n",
       "<thead><tr><th></th><th scope=col>a.perfect.circle</th><th scope=col>abba</th><th scope=col>ac.dc</th><th scope=col>adam.green</th><th scope=col>aerosmith</th><th scope=col>afi</th><th scope=col>air</th><th scope=col>alanis.morissette</th><th scope=col>alexisonfire</th><th scope=col>alicia.keys</th><th scope=col>⋯</th><th scope=col>timbaland</th><th scope=col>tom.waits</th><th scope=col>tool</th><th scope=col>tori.amos</th><th scope=col>travis</th><th scope=col>trivium</th><th scope=col>u2</th><th scope=col>underoath</th><th scope=col>volbeat</th><th scope=col>yann.tiersen</th></tr></thead>\n",
       "<tbody>\n",
       "\t<tr><th scope=row>a.perfect.circle</th><td>NA</td><td>NA</td><td>NA</td><td>NA</td><td>NA</td><td>NA</td><td>NA</td><td>NA</td><td>NA</td><td>NA</td><td>⋯ </td><td>NA</td><td>NA</td><td>NA</td><td>NA</td><td>NA</td><td>NA</td><td>NA</td><td>NA</td><td>NA</td><td>NA</td></tr>\n",
       "\t<tr><th scope=row>abba</th><td>NA</td><td>NA</td><td>NA</td><td>NA</td><td>NA</td><td>NA</td><td>NA</td><td>NA</td><td>NA</td><td>NA</td><td>⋯ </td><td>NA</td><td>NA</td><td>NA</td><td>NA</td><td>NA</td><td>NA</td><td>NA</td><td>NA</td><td>NA</td><td>NA</td></tr>\n",
       "\t<tr><th scope=row>ac.dc</th><td>NA</td><td>NA</td><td>NA</td><td>NA</td><td>NA</td><td>NA</td><td>NA</td><td>NA</td><td>NA</td><td>NA</td><td>⋯ </td><td>NA</td><td>NA</td><td>NA</td><td>NA</td><td>NA</td><td>NA</td><td>NA</td><td>NA</td><td>NA</td><td>NA</td></tr>\n",
       "\t<tr><th scope=row>adam.green</th><td>NA</td><td>NA</td><td>NA</td><td>NA</td><td>NA</td><td>NA</td><td>NA</td><td>NA</td><td>NA</td><td>NA</td><td>⋯ </td><td>NA</td><td>NA</td><td>NA</td><td>NA</td><td>NA</td><td>NA</td><td>NA</td><td>NA</td><td>NA</td><td>NA</td></tr>\n",
       "\t<tr><th scope=row>aerosmith</th><td>NA</td><td>NA</td><td>NA</td><td>NA</td><td>NA</td><td>NA</td><td>NA</td><td>NA</td><td>NA</td><td>NA</td><td>⋯ </td><td>NA</td><td>NA</td><td>NA</td><td>NA</td><td>NA</td><td>NA</td><td>NA</td><td>NA</td><td>NA</td><td>NA</td></tr>\n",
       "\t<tr><th scope=row>afi</th><td>NA</td><td>NA</td><td>NA</td><td>NA</td><td>NA</td><td>NA</td><td>NA</td><td>NA</td><td>NA</td><td>NA</td><td>⋯ </td><td>NA</td><td>NA</td><td>NA</td><td>NA</td><td>NA</td><td>NA</td><td>NA</td><td>NA</td><td>NA</td><td>NA</td></tr>\n",
       "</tbody>\n",
       "</table>\n"
      ],
      "text/latex": [
       "\\begin{tabular}{r|lllllllllllllllllllllllllllllllllllllllllllllllllllllllllllllllllllllllllllllllllllllllllllllllllllllllllllllllllllllllllllllllllllllllllllllllllllllllllllllllllllllllllllllllllllllllllllllllllllllllllllllllllllllllllllllllllllllllllllllllllllllllllllllllllllllllllllllllllllllllllllll}\n",
       "  & a.perfect.circle & abba & ac.dc & adam.green & aerosmith & afi & air & alanis.morissette & alexisonfire & alicia.keys & ⋯ & timbaland & tom.waits & tool & tori.amos & travis & trivium & u2 & underoath & volbeat & yann.tiersen\\\\\n",
       "\\hline\n",
       "\ta.perfect.circle & NA & NA & NA & NA & NA & NA & NA & NA & NA & NA & ⋯  & NA & NA & NA & NA & NA & NA & NA & NA & NA & NA\\\\\n",
       "\tabba & NA & NA & NA & NA & NA & NA & NA & NA & NA & NA & ⋯  & NA & NA & NA & NA & NA & NA & NA & NA & NA & NA\\\\\n",
       "\tac.dc & NA & NA & NA & NA & NA & NA & NA & NA & NA & NA & ⋯  & NA & NA & NA & NA & NA & NA & NA & NA & NA & NA\\\\\n",
       "\tadam.green & NA & NA & NA & NA & NA & NA & NA & NA & NA & NA & ⋯  & NA & NA & NA & NA & NA & NA & NA & NA & NA & NA\\\\\n",
       "\taerosmith & NA & NA & NA & NA & NA & NA & NA & NA & NA & NA & ⋯  & NA & NA & NA & NA & NA & NA & NA & NA & NA & NA\\\\\n",
       "\tafi & NA & NA & NA & NA & NA & NA & NA & NA & NA & NA & ⋯  & NA & NA & NA & NA & NA & NA & NA & NA & NA & NA\\\\\n",
       "\\end{tabular}\n"
      ],
      "text/markdown": [
       "\n",
       "| <!--/--> | a.perfect.circle | abba | ac.dc | adam.green | aerosmith | afi | air | alanis.morissette | alexisonfire | alicia.keys | ⋯ | timbaland | tom.waits | tool | tori.amos | travis | trivium | u2 | underoath | volbeat | yann.tiersen | \n",
       "|---|---|---|---|---|---|\n",
       "| a.perfect.circle | NA | NA | NA | NA | NA | NA | NA | NA | NA | NA | ⋯  | NA | NA | NA | NA | NA | NA | NA | NA | NA | NA | \n",
       "| abba | NA | NA | NA | NA | NA | NA | NA | NA | NA | NA | ⋯  | NA | NA | NA | NA | NA | NA | NA | NA | NA | NA | \n",
       "| ac.dc | NA | NA | NA | NA | NA | NA | NA | NA | NA | NA | ⋯  | NA | NA | NA | NA | NA | NA | NA | NA | NA | NA | \n",
       "| adam.green | NA | NA | NA | NA | NA | NA | NA | NA | NA | NA | ⋯  | NA | NA | NA | NA | NA | NA | NA | NA | NA | NA | \n",
       "| aerosmith | NA | NA | NA | NA | NA | NA | NA | NA | NA | NA | ⋯  | NA | NA | NA | NA | NA | NA | NA | NA | NA | NA | \n",
       "| afi | NA | NA | NA | NA | NA | NA | NA | NA | NA | NA | ⋯  | NA | NA | NA | NA | NA | NA | NA | NA | NA | NA | \n",
       "\n",
       "\n"
      ],
      "text/plain": [
       "                 a.perfect.circle abba ac.dc adam.green aerosmith afi air\n",
       "a.perfect.circle NA               NA   NA    NA         NA        NA  NA \n",
       "abba             NA               NA   NA    NA         NA        NA  NA \n",
       "ac.dc            NA               NA   NA    NA         NA        NA  NA \n",
       "adam.green       NA               NA   NA    NA         NA        NA  NA \n",
       "aerosmith        NA               NA   NA    NA         NA        NA  NA \n",
       "afi              NA               NA   NA    NA         NA        NA  NA \n",
       "                 alanis.morissette alexisonfire alicia.keys ⋯ timbaland\n",
       "a.perfect.circle NA                NA           NA          ⋯ NA       \n",
       "abba             NA                NA           NA          ⋯ NA       \n",
       "ac.dc            NA                NA           NA          ⋯ NA       \n",
       "adam.green       NA                NA           NA          ⋯ NA       \n",
       "aerosmith        NA                NA           NA          ⋯ NA       \n",
       "afi              NA                NA           NA          ⋯ NA       \n",
       "                 tom.waits tool tori.amos travis trivium u2 underoath volbeat\n",
       "a.perfect.circle NA        NA   NA        NA     NA      NA NA        NA     \n",
       "abba             NA        NA   NA        NA     NA      NA NA        NA     \n",
       "ac.dc            NA        NA   NA        NA     NA      NA NA        NA     \n",
       "adam.green       NA        NA   NA        NA     NA      NA NA        NA     \n",
       "aerosmith        NA        NA   NA        NA     NA      NA NA        NA     \n",
       "afi              NA        NA   NA        NA     NA      NA NA        NA     \n",
       "                 yann.tiersen\n",
       "a.perfect.circle NA          \n",
       "abba             NA          \n",
       "ac.dc            NA          \n",
       "adam.green       NA          \n",
       "aerosmith        NA          \n",
       "afi              NA          "
      ]
     },
     "metadata": {},
     "output_type": "display_data"
    }
   ],
   "source": [
    "head(data.germany.clean.similarity)"
   ]
  },
  {
   "cell_type": "code",
   "execution_count": 7,
   "metadata": {},
   "outputs": [],
   "source": [
    "for(i in 1:ncol(data.germany.clean)) {\n",
    "    for(j in 1:ncol(data.germany.clean)) {\n",
    "      data.germany.clean.similarity[i,j] <- calculate_cosine_similarity(data.germany.clean[i], data.germany.clean[j])\n",
    "    }\n",
    "}"
   ]
  },
  {
   "cell_type": "code",
   "execution_count": 8,
   "metadata": {},
   "outputs": [],
   "source": [
    "data.germany.clean.similarity <- as.data.frame(data.germany.clean.similarity)"
   ]
  },
  {
   "cell_type": "code",
   "execution_count": 9,
   "metadata": {},
   "outputs": [],
   "source": [
    "data.germany.neighbours <- matrix(NA, nrow=ncol(data.germany.clean.similarity),ncol=11,dimnames=list(colnames(data.germany.clean.similarity)))"
   ]
  },
  {
   "cell_type": "code",
   "execution_count": 10,
   "metadata": {},
   "outputs": [
    {
     "data": {
      "text/html": [
       "<table>\n",
       "<thead><tr><th></th><th scope=col>abba</th></tr></thead>\n",
       "<tbody>\n",
       "\t<tr><th scope=row>a.perfect.circle</th><td>0.00000000</td></tr>\n",
       "\t<tr><th scope=row>abba</th><td>1.00000000</td></tr>\n",
       "\t<tr><th scope=row>ac.dc</th><td>0.05227877</td></tr>\n",
       "\t<tr><th scope=row>adam.green</th><td>0.02507061</td></tr>\n",
       "\t<tr><th scope=row>aerosmith</th><td>0.06105625</td></tr>\n",
       "\t<tr><th scope=row>afi</th><td>0.00000000</td></tr>\n",
       "</tbody>\n",
       "</table>\n"
      ],
      "text/latex": [
       "\\begin{tabular}{r|l}\n",
       "  & abba\\\\\n",
       "\\hline\n",
       "\ta.perfect.circle & 0.00000000\\\\\n",
       "\tabba & 1.00000000\\\\\n",
       "\tac.dc & 0.05227877\\\\\n",
       "\tadam.green & 0.02507061\\\\\n",
       "\taerosmith & 0.06105625\\\\\n",
       "\tafi & 0.00000000\\\\\n",
       "\\end{tabular}\n"
      ],
      "text/markdown": [
       "\n",
       "| <!--/--> | abba | \n",
       "|---|---|---|---|---|---|\n",
       "| a.perfect.circle | 0.00000000 | \n",
       "| abba | 1.00000000 | \n",
       "| ac.dc | 0.05227877 | \n",
       "| adam.green | 0.02507061 | \n",
       "| aerosmith | 0.06105625 | \n",
       "| afi | 0.00000000 | \n",
       "\n",
       "\n"
      ],
      "text/plain": [
       "                 abba      \n",
       "a.perfect.circle 0.00000000\n",
       "abba             1.00000000\n",
       "ac.dc            0.05227877\n",
       "adam.green       0.02507061\n",
       "aerosmith        0.06105625\n",
       "afi              0.00000000"
      ]
     },
     "metadata": {},
     "output_type": "display_data"
    }
   ],
   "source": [
    "head(data.germany.clean.similarity['abba'])"
   ]
  },
  {
   "cell_type": "code",
   "execution_count": 11,
   "metadata": {},
   "outputs": [],
   "source": [
    "find_top_similar <- function(name, n_top) {\n",
    "    head(data.germany.clean.similarity[order(data.germany.clean.similarity[name,], decreasing=TRUE),][name], n=n_top+1)\n",
    "}"
   ]
  },
  {
   "cell_type": "code",
   "execution_count": 12,
   "metadata": {},
   "outputs": [
    {
     "data": {
      "text/html": [
       "<table>\n",
       "<thead><tr><th></th><th scope=col>abba</th></tr></thead>\n",
       "<tbody>\n",
       "\t<tr><th scope=row>abba</th><td>1.0000000</td></tr>\n",
       "\t<tr><th scope=row>madonna</th><td>0.2416561</td></tr>\n",
       "\t<tr><th scope=row>robbie.williams</th><td>0.2053985</td></tr>\n",
       "\t<tr><th scope=row>elvis.presley</th><td>0.1917988</td></tr>\n",
       "\t<tr><th scope=row>michael.jackson</th><td>0.1878846</td></tr>\n",
       "\t<tr><th scope=row>queen</th><td>0.1794268</td></tr>\n",
       "</tbody>\n",
       "</table>\n"
      ],
      "text/latex": [
       "\\begin{tabular}{r|l}\n",
       "  & abba\\\\\n",
       "\\hline\n",
       "\tabba & 1.0000000\\\\\n",
       "\tmadonna & 0.2416561\\\\\n",
       "\trobbie.williams & 0.2053985\\\\\n",
       "\telvis.presley & 0.1917988\\\\\n",
       "\tmichael.jackson & 0.1878846\\\\\n",
       "\tqueen & 0.1794268\\\\\n",
       "\\end{tabular}\n"
      ],
      "text/markdown": [
       "\n",
       "| <!--/--> | abba | \n",
       "|---|---|---|---|---|---|\n",
       "| abba | 1.0000000 | \n",
       "| madonna | 0.2416561 | \n",
       "| robbie.williams | 0.2053985 | \n",
       "| elvis.presley | 0.1917988 | \n",
       "| michael.jackson | 0.1878846 | \n",
       "| queen | 0.1794268 | \n",
       "\n",
       "\n"
      ],
      "text/plain": [
       "                abba     \n",
       "abba            1.0000000\n",
       "madonna         0.2416561\n",
       "robbie.williams 0.2053985\n",
       "elvis.presley   0.1917988\n",
       "michael.jackson 0.1878846\n",
       "queen           0.1794268"
      ]
     },
     "metadata": {},
     "output_type": "display_data"
    }
   ],
   "source": [
    "find_top_similar(\"abba\", 5)"
   ]
  },
  {
   "cell_type": "markdown",
   "metadata": {},
   "source": [
    "### User Based Collaborative Filtering"
   ]
  },
  {
   "cell_type": "code",
   "execution_count": 13,
   "metadata": {},
   "outputs": [],
   "source": [
    "getScore <- function(history, similarities) {\n",
    "    x <- sum(history*similarities)/sum(similarities)\n",
    "    return(x)\n",
    "}"
   ]
  },
  {
   "cell_type": "code",
   "execution_count": 14,
   "metadata": {},
   "outputs": [],
   "source": [
    "holder <- matrix(NA, nrow=nrow(data.germany),ncol=ncol(data.germany)-1,dimnames=list((data.germany$user),colnames(data.germany[-1])))"
   ]
  },
  {
   "cell_type": "code",
   "execution_count": 15,
   "metadata": {},
   "outputs": [],
   "source": [
    "# Loop through the users (rows)\n",
    "   for(i in 1:nrow(holder)) \n",
    "   {\n",
    "       # Loops through the products (columns)\n",
    "       for(j in 1:ncol(holder)) \n",
    "       {\n",
    "           # Get the user's name and th product's name\n",
    "           # We do this not to conform with vectors sorted differently \n",
    "             user <- rownames(holder)[i]\n",
    "             product <- colnames(holder)[j]\n",
    " \n",
    "           # We do not want to recommend products you have already consumed\n",
    "           # If you have already consumed it, we store an empty string\n",
    "             if(as.integer(data.germany[data.germany$user==user,product]) == 1)\n",
    "             { \n",
    "                 holder[i,j]<-\"\"\n",
    "              } else {\n",
    " \n",
    "           # We first have to get a product's top 10 neighbours sorted by similarity\n",
    "             topN<-((head(n=11,(data.germany.clean.similarity[order(data.germany.clean.similarity[,product],decreasing=TRUE),][product]))))\n",
    "             topN.names <- as.character(rownames(topN))\n",
    "             topN.similarities <- as.numeric(topN[,1])\n",
    " \n",
    "           # Drop the first one because it will always be the same song\n",
    "             topN.similarities<-topN.similarities[-1]\n",
    "             topN.names<-topN.names[-1]\n",
    " \n",
    "           # We then get the user's purchase history for those 10 items\n",
    "             topN.purchases<- data.germany[,c(\"user\",topN.names)]\n",
    "             topN.userPurchases<-topN.purchases[topN.purchases$user==user,]\n",
    "             topN.userPurchases <- as.numeric(topN.userPurchases[!(names(topN.userPurchases) %in% c(\"user\"))])\n",
    " \n",
    "            # We then calculate the score for that product and that user\n",
    "             holder[i,j]<-getScore(similarities=topN.similarities,history=topN.userPurchases)\n",
    " \n",
    "         } # close else statement\n",
    "       } # end product for loop   \n",
    "   } # end user for loop\n",
    " \n",
    "data.germany.user.scores <- holder"
   ]
  },
  {
   "cell_type": "code",
   "execution_count": 18,
   "metadata": {},
   "outputs": [],
   "source": [
    "# We first have to get a product's top 10 neighbours sorted by similarity\n",
    " topN<-((head(n=11,(data.germany.clean.similarity[order(data.germany.clean.similarity[,product],decreasing=TRUE),][product]))))\n",
    " topN.names <- as.character(rownames(topN))\n",
    " topN.similarities <- as.numeric(topN[,1])\n",
    " \n",
    "# Drop the first one because it will always be the same song\n",
    " topN.similarities<-topN.similarities[-1]\n",
    " topN.names<-topN.names[-1]"
   ]
  },
  {
   "cell_type": "code",
   "execution_count": 19,
   "metadata": {},
   "outputs": [],
   "source": [
    "# We then get the user's purchase history for those 10 items\n",
    " topN.purchases<- data.germany[,c(\"user\",topN.names)]\n",
    " topN.userPurchases<-topN.purchases[topN.purchases$user==user,]\n",
    " topN.userPurchases <- as.numeric(topN.userPurchases[!(names(topN.userPurchases) %in% c(\"user\"))])"
   ]
  },
  {
   "cell_type": "code",
   "execution_count": 20,
   "metadata": {},
   "outputs": [],
   "source": [
    "holder[i,j]<-getScore(similarities=topN.similarities,history=topN.userPurchases)"
   ]
  },
  {
   "cell_type": "code",
   "execution_count": 21,
   "metadata": {},
   "outputs": [],
   "source": [
    "data.germany.user.scores.holder <- matrix(NA, nrow=nrow(data.germany.user.scores),ncol=100,dimnames=list(rownames(data.germany.user.scores)))\n",
    "for(i in 1:nrow(data.germany.user.scores)) {\n",
    "    data.germany.user.scores.holder[i,] <- names(head(n=100,(data.germany.user.scores[,order(data.germany.user.scores[i,],decreasing=TRUE)])[i,]))\n",
    "}"
   ]
  },
  {
   "cell_type": "code",
   "execution_count": 23,
   "metadata": {},
   "outputs": [
    {
     "data": {
      "text/html": [
       "<table>\n",
       "<tbody>\n",
       "\t<tr><th scope=row>1</th><td>flogging.molly          </td><td>coldplay                </td><td>aerosmith               </td><td>the.beatles             </td><td>moby                    </td><td>mando.diao              </td><td>ac.dc                   </td><td>bob.marley...the.wailers</td><td>korpiklaani             </td><td>oasis                   </td><td>⋯                       </td><td>peter.fox               </td><td>the.wombats             </td><td>guns.n.roses            </td><td>massive.attack          </td><td>jamiroquai              </td><td>james.morrison          </td><td>rage.against.the.machine</td><td>mgmt                    </td><td>pink.floyd              </td><td>audioslave              </td></tr>\n",
       "\t<tr><th scope=row>33</th><td>peter.fox               </td><td>gentleman               </td><td>red.hot.chili.peppers   </td><td>kings.of.leon           </td><td>flyleaf                 </td><td>oasis                   </td><td>beatsteaks              </td><td>the.killers             </td><td>jason.mraz              </td><td>babyshambles            </td><td>⋯                       </td><td>bjork                   </td><td>nine.inch.nails         </td><td>blur                    </td><td>beastie.boys            </td><td>billy.talent            </td><td>editors                 </td><td>good.charlotte          </td><td>goldfrapp               </td><td>hot.chip                </td><td>radiohead               </td></tr>\n",
       "\t<tr><th scope=row>42</th><td>oomph.                  </td><td>lacuna.coil             </td><td>rammstein               </td><td>schandmaul              </td><td>sonata.arctica          </td><td>subway.to.sally         </td><td>apocalyptica            </td><td>marilyn.manson          </td><td>pink                    </td><td>linkin.park             </td><td>⋯                       </td><td>bob.dylan               </td><td>bob.marley              </td><td>bob.marley...the.wailers</td><td>breaking.benjamin       </td><td>bright.eyes             </td><td>bruce.springsteen       </td><td>cat.power               </td><td>christina.aguilera      </td><td>clueso                  </td><td>cocorosie               </td></tr>\n",
       "\t<tr><th scope=row>51</th><td>the.subways             </td><td>the.kooks               </td><td>the.hives               </td><td>franz.ferdinand         </td><td>jack.johnson            </td><td>bloc.party              </td><td>foo.fighters            </td><td>amy.winehouse           </td><td>the.white.stripes       </td><td>deichkind               </td><td>⋯                       </td><td>amon.amarth             </td><td>anti.flag               </td><td>aphex.twin              </td><td>apocalyptica            </td><td>arch.enemy              </td><td>as.i.lay.dying          </td><td>atb                     </td><td>atreyu                  </td><td>audioslave              </td><td>avril.lavigne           </td></tr>\n",
       "\t<tr><th scope=row>62</th><td>mando.diao              </td><td>the.fratellis           </td><td>jack.johnson            </td><td>incubus                 </td><td>peter.fox               </td><td>oasis                   </td><td>the.wombats             </td><td>foo.fighters            </td><td>the.offspring           </td><td>timbaland               </td><td>⋯                       </td><td>millencolin             </td><td>madonna                 </td><td>disturbed               </td><td>the.chemical.brothers   </td><td>norah.jones             </td><td>hoobastank              </td><td>dire.straits            </td><td>beyonce                 </td><td>johnny.cash             </td><td>simple.plan             </td></tr>\n",
       "\t<tr><th scope=row>75</th><td>hoobastank              </td><td>papa.roach              </td><td>the.prodigy             </td><td>sum.41                  </td><td>good.charlotte          </td><td>blink.182               </td><td>hans.zimmer             </td><td>groove.coverage         </td><td>three.days.grace        </td><td>afi                     </td><td>⋯                       </td><td>amy.macdonald           </td><td>amy.winehouse           </td><td>aphex.twin              </td><td>apocalyptica            </td><td>arcade.fire             </td><td>arch.enemy              </td><td>arctic.monkeys          </td><td>babyshambles            </td><td>beck                    </td><td>beirut                  </td></tr>\n",
       "</tbody>\n",
       "</table>\n"
      ],
      "text/latex": [
       "\\begin{tabular}{r|llllllllllllllllllllllllllllllllllllllllllllllllllllllllllllllllllllllllllllllllllllllllllllllllllll}\n",
       "\t1 & flogging.molly           & coldplay                 & aerosmith                & the.beatles              & moby                     & mando.diao               & ac.dc                    & bob.marley...the.wailers & korpiklaani              & oasis                    & ⋯                        & peter.fox                & the.wombats              & guns.n.roses             & massive.attack           & jamiroquai               & james.morrison           & rage.against.the.machine & mgmt                     & pink.floyd               & audioslave              \\\\\n",
       "\t33 & peter.fox                & gentleman                & red.hot.chili.peppers    & kings.of.leon            & flyleaf                  & oasis                    & beatsteaks               & the.killers              & jason.mraz               & babyshambles             & ⋯                        & bjork                    & nine.inch.nails          & blur                     & beastie.boys             & billy.talent             & editors                  & good.charlotte           & goldfrapp                & hot.chip                 & radiohead               \\\\\n",
       "\t42 & oomph.                   & lacuna.coil              & rammstein                & schandmaul               & sonata.arctica           & subway.to.sally          & apocalyptica             & marilyn.manson           & pink                     & linkin.park              & ⋯                        & bob.dylan                & bob.marley               & bob.marley...the.wailers & breaking.benjamin        & bright.eyes              & bruce.springsteen        & cat.power                & christina.aguilera       & clueso                   & cocorosie               \\\\\n",
       "\t51 & the.subways              & the.kooks                & the.hives                & franz.ferdinand          & jack.johnson             & bloc.party               & foo.fighters             & amy.winehouse            & the.white.stripes        & deichkind                & ⋯                        & amon.amarth              & anti.flag                & aphex.twin               & apocalyptica             & arch.enemy               & as.i.lay.dying           & atb                      & atreyu                   & audioslave               & avril.lavigne           \\\\\n",
       "\t62 & mando.diao               & the.fratellis            & jack.johnson             & incubus                  & peter.fox                & oasis                    & the.wombats              & foo.fighters             & the.offspring            & timbaland                & ⋯                        & millencolin              & madonna                  & disturbed                & the.chemical.brothers    & norah.jones              & hoobastank               & dire.straits             & beyonce                  & johnny.cash              & simple.plan             \\\\\n",
       "\t75 & hoobastank               & papa.roach               & the.prodigy              & sum.41                   & good.charlotte           & blink.182                & hans.zimmer              & groove.coverage          & three.days.grace         & afi                      & ⋯                        & amy.macdonald            & amy.winehouse            & aphex.twin               & apocalyptica             & arcade.fire              & arch.enemy               & arctic.monkeys           & babyshambles             & beck                     & beirut                  \\\\\n",
       "\\end{tabular}\n"
      ],
      "text/markdown": [
       "\n",
       "| 1 | flogging.molly           | coldplay                 | aerosmith                | the.beatles              | moby                     | mando.diao               | ac.dc                    | bob.marley...the.wailers | korpiklaani              | oasis                    | ⋯                        | peter.fox                | the.wombats              | guns.n.roses             | massive.attack           | jamiroquai               | james.morrison           | rage.against.the.machine | mgmt                     | pink.floyd               | audioslave               | \n",
       "| 33 | peter.fox                | gentleman                | red.hot.chili.peppers    | kings.of.leon            | flyleaf                  | oasis                    | beatsteaks               | the.killers              | jason.mraz               | babyshambles             | ⋯                        | bjork                    | nine.inch.nails          | blur                     | beastie.boys             | billy.talent             | editors                  | good.charlotte           | goldfrapp                | hot.chip                 | radiohead                | \n",
       "| 42 | oomph.                   | lacuna.coil              | rammstein                | schandmaul               | sonata.arctica           | subway.to.sally          | apocalyptica             | marilyn.manson           | pink                     | linkin.park              | ⋯                        | bob.dylan                | bob.marley               | bob.marley...the.wailers | breaking.benjamin        | bright.eyes              | bruce.springsteen        | cat.power                | christina.aguilera       | clueso                   | cocorosie                | \n",
       "| 51 | the.subways              | the.kooks                | the.hives                | franz.ferdinand          | jack.johnson             | bloc.party               | foo.fighters             | amy.winehouse            | the.white.stripes        | deichkind                | ⋯                        | amon.amarth              | anti.flag                | aphex.twin               | apocalyptica             | arch.enemy               | as.i.lay.dying           | atb                      | atreyu                   | audioslave               | avril.lavigne            | \n",
       "| 62 | mando.diao               | the.fratellis            | jack.johnson             | incubus                  | peter.fox                | oasis                    | the.wombats              | foo.fighters             | the.offspring            | timbaland                | ⋯                        | millencolin              | madonna                  | disturbed                | the.chemical.brothers    | norah.jones              | hoobastank               | dire.straits             | beyonce                  | johnny.cash              | simple.plan              | \n",
       "| 75 | hoobastank               | papa.roach               | the.prodigy              | sum.41                   | good.charlotte           | blink.182                | hans.zimmer              | groove.coverage          | three.days.grace         | afi                      | ⋯                        | amy.macdonald            | amy.winehouse            | aphex.twin               | apocalyptica             | arcade.fire              | arch.enemy               | arctic.monkeys           | babyshambles             | beck                     | beirut                   | \n",
       "\n",
       "\n"
      ],
      "text/plain": [
       "   [,1]           [,2]          [,3]                  [,4]           \n",
       "1  flogging.molly coldplay      aerosmith             the.beatles    \n",
       "33 peter.fox      gentleman     red.hot.chili.peppers kings.of.leon  \n",
       "42 oomph.         lacuna.coil   rammstein             schandmaul     \n",
       "51 the.subways    the.kooks     the.hives             franz.ferdinand\n",
       "62 mando.diao     the.fratellis jack.johnson          incubus        \n",
       "75 hoobastank     papa.roach    the.prodigy           sum.41         \n",
       "   [,5]           [,6]            [,7]         [,8]                    \n",
       "1  moby           mando.diao      ac.dc        bob.marley...the.wailers\n",
       "33 flyleaf        oasis           beatsteaks   the.killers             \n",
       "42 sonata.arctica subway.to.sally apocalyptica marilyn.manson          \n",
       "51 jack.johnson   bloc.party      foo.fighters amy.winehouse           \n",
       "62 peter.fox      oasis           the.wombats  foo.fighters            \n",
       "75 good.charlotte blink.182       hans.zimmer  groove.coverage         \n",
       "   [,9]              [,10]        [,11] [,12]         [,13]          \n",
       "1  korpiklaani       oasis        ⋯     peter.fox     the.wombats    \n",
       "33 jason.mraz        babyshambles ⋯     bjork         nine.inch.nails\n",
       "42 pink              linkin.park  ⋯     bob.dylan     bob.marley     \n",
       "51 the.white.stripes deichkind    ⋯     amon.amarth   anti.flag      \n",
       "62 the.offspring     timbaland    ⋯     millencolin   madonna        \n",
       "75 three.days.grace  afi          ⋯     amy.macdonald amy.winehouse  \n",
       "   [,14]                    [,15]                 [,16]       \n",
       "1  guns.n.roses             massive.attack        jamiroquai  \n",
       "33 blur                     beastie.boys          billy.talent\n",
       "42 bob.marley...the.wailers breaking.benjamin     bright.eyes \n",
       "51 aphex.twin               apocalyptica          arch.enemy  \n",
       "62 disturbed                the.chemical.brothers norah.jones \n",
       "75 aphex.twin               apocalyptica          arcade.fire \n",
       "   [,17]             [,18]                    [,19]              [,20]      \n",
       "1  james.morrison    rage.against.the.machine mgmt               pink.floyd \n",
       "33 editors           good.charlotte           goldfrapp          hot.chip   \n",
       "42 bruce.springsteen cat.power                christina.aguilera clueso     \n",
       "51 as.i.lay.dying    atb                      atreyu             audioslave \n",
       "62 hoobastank        dire.straits             beyonce            johnny.cash\n",
       "75 arch.enemy        arctic.monkeys           babyshambles       beck       \n",
       "   [,21]        \n",
       "1  audioslave   \n",
       "33 radiohead    \n",
       "42 cocorosie    \n",
       "51 avril.lavigne\n",
       "62 simple.plan  \n",
       "75 beirut       "
      ]
     },
     "metadata": {},
     "output_type": "display_data"
    }
   ],
   "source": [
    "head(data.germany.user.scores.holder)"
   ]
  },
  {
   "cell_type": "markdown",
   "metadata": {},
   "source": [
    "## References"
   ]
  },
  {
   "cell_type": "markdown",
   "metadata": {},
   "source": [
    "http://www.salemmarafi.com/code/collaborative-filtering-r/"
   ]
  }
 ],
 "metadata": {
  "kernelspec": {
   "display_name": "R",
   "language": "R",
   "name": "ir"
  },
  "language_info": {
   "codemirror_mode": "r",
   "file_extension": ".r",
   "mimetype": "text/x-r-source",
   "name": "R",
   "pygments_lexer": "r",
   "version": "3.4.4"
  }
 },
 "nbformat": 4,
 "nbformat_minor": 2
}
