{
 "cells": [
  {
   "cell_type": "markdown",
   "metadata": {},
   "source": [
    "# TripAdvisor"
   ]
  },
  {
   "cell_type": "markdown",
   "metadata": {},
   "source": [
    "## Abstract"
   ]
  },
  {
   "cell_type": "markdown",
   "metadata": {},
   "source": [
    "The purpose of this document is to explore the data provided after scraping TripAdvisor. The main reason to scrape this web is to extract data about restaurants and their reviews in Spain.\n",
    "\n",
    "This document has two main sections: EDA and text classification. The first one tries to explain information hidden in data. The second one tries to classificate reviews in positive or negative depending on the text the user left."
   ]
  },
  {
   "cell_type": "markdown",
   "metadata": {},
   "source": [
    "** Version 2 Changelog: **\n",
    "- Using describe function\n",
    "- Data cleaning section with: % NaN and diversity by column\n",
    "- [PENDING] Using loc instead of simple indexing -> Now, it raises an exception: [column] is not in [index]\n",
    "- Measuring diferences between BoW and TF-IDF\n",
    "- Avoiding output in charts\n",
    "- Confusion matrix (normalized and not normalized) for both BoW and TF-IDF"
   ]
  },
  {
   "cell_type": "markdown",
   "metadata": {},
   "source": [
    "## 1. EDA (Exploratory Data Analysis)"
   ]
  },
  {
   "cell_type": "markdown",
   "metadata": {},
   "source": [
    "## 1.1. Load and check data"
   ]
  },
  {
   "cell_type": "code",
   "execution_count": 1,
   "metadata": {},
   "outputs": [],
   "source": [
    "%matplotlib inline\n",
    "import pandas as pd\n",
    "import json\n",
    "import numpy as np\n",
    "import matplotlib.pyplot as plt\n",
    "import seaborn as sns\n",
    "import operator\n",
    "import itertools"
   ]
  },
  {
   "cell_type": "code",
   "execution_count": 2,
   "metadata": {},
   "outputs": [],
   "source": [
    "restaurants = pd.read_json('restaurant.json', lines=True)\n",
    "reviews = pd.read_json('review.json', lines=True)\n",
    "\n",
    "restaurants.set_index('_id', inplace=True)\n",
    "reviews.set_index('_id', inplace=True)"
   ]
  },
  {
   "cell_type": "code",
   "execution_count": 3,
   "metadata": {},
   "outputs": [
    {
     "data": {
      "text/html": [
       "<div>\n",
       "<style>\n",
       "    .dataframe thead tr:only-child th {\n",
       "        text-align: right;\n",
       "    }\n",
       "\n",
       "    .dataframe thead th {\n",
       "        text-align: left;\n",
       "    }\n",
       "\n",
       "    .dataframe tbody tr th {\n",
       "        vertical-align: top;\n",
       "    }\n",
       "</style>\n",
       "<table border=\"1\" class=\"dataframe\">\n",
       "  <thead>\n",
       "    <tr style=\"text-align: right;\">\n",
       "      <th></th>\n",
       "      <th>address</th>\n",
       "      <th>cuisines</th>\n",
       "      <th>name</th>\n",
       "      <th>phone</th>\n",
       "      <th>price</th>\n",
       "      <th>ranking_position</th>\n",
       "      <th>rating</th>\n",
       "      <th>ratings</th>\n",
       "      <th>tags</th>\n",
       "      <th>updated_at</th>\n",
       "    </tr>\n",
       "    <tr>\n",
       "      <th>_id</th>\n",
       "      <th></th>\n",
       "      <th></th>\n",
       "      <th></th>\n",
       "      <th></th>\n",
       "      <th></th>\n",
       "      <th></th>\n",
       "      <th></th>\n",
       "      <th></th>\n",
       "      <th></th>\n",
       "      <th></th>\n",
       "    </tr>\n",
       "  </thead>\n",
       "  <tbody>\n",
       "    <tr>\n",
       "      <th>d2006562</th>\n",
       "      <td>{\"locality\": \"28028 Madrid,\", \"street\": \"Calle...</td>\n",
       "      <td>[International, Mediterranean, European, Spani...</td>\n",
       "      <td>Los Montes de Galicia</td>\n",
       "      <td>+34 913 55 27 86</td>\n",
       "      <td>2.5</td>\n",
       "      <td>1</td>\n",
       "      <td>4.5</td>\n",
       "      <td>[{\"type\": \"Service\", \"value\": 4.5}, {\"type\": \"...</td>\n",
       "      <td>[International, Mediterranean, European]</td>\n",
       "      <td>2018-05-23 09:12:01</td>\n",
       "    </tr>\n",
       "    <tr>\n",
       "      <th>d10428302</th>\n",
       "      <td>{\"locality\": \"28014 Madrid,\", \"street\": \"Carre...</td>\n",
       "      <td>[Mediterranean, European, Spanish, Contemporar...</td>\n",
       "      <td>Cebo</td>\n",
       "      <td>+34 917 87 77 80</td>\n",
       "      <td>4.0</td>\n",
       "      <td>2</td>\n",
       "      <td>5.0</td>\n",
       "      <td>[{\"type\": \"Service\", \"value\": 5}, {\"type\": \"Fo...</td>\n",
       "      <td>[Mediterranean, European, Spanish]</td>\n",
       "      <td>2018-05-23 09:12:28</td>\n",
       "    </tr>\n",
       "    <tr>\n",
       "      <th>d13138415</th>\n",
       "      <td>{\"locality\": \"28001 Madrid,\", \"street\": \"Calle...</td>\n",
       "      <td>[Spanish, Mediterranean, Vegetarian Friendly, ...</td>\n",
       "      <td>Restaurante Etimo by Begona Fraire</td>\n",
       "      <td>+34 913 27 36 07</td>\n",
       "      <td>4.0</td>\n",
       "      <td>4</td>\n",
       "      <td>5.0</td>\n",
       "      <td>[{\"type\": \"Service\", \"value\": 5}, {\"type\": \"Fo...</td>\n",
       "      <td>[Spanish, Mediterranean, Vegetarian Friendly]</td>\n",
       "      <td>2018-05-23 09:12:53</td>\n",
       "    </tr>\n",
       "    <tr>\n",
       "      <th>d11896546</th>\n",
       "      <td>{\"locality\": \"28005 Madrid,\", \"street\": \"Calle...</td>\n",
       "      <td>[International, Mediterranean, European, Fusio...</td>\n",
       "      <td>Astor</td>\n",
       "      <td>+34 910 39 80 00</td>\n",
       "      <td>2.5</td>\n",
       "      <td>3</td>\n",
       "      <td>5.0</td>\n",
       "      <td>[{\"type\": \"Service\", \"value\": 5}, {\"type\": \"Fo...</td>\n",
       "      <td>[International, Mediterranean, European]</td>\n",
       "      <td>2018-05-23 09:12:41</td>\n",
       "    </tr>\n",
       "    <tr>\n",
       "      <th>d6884911</th>\n",
       "      <td>{\"locality\": \"28004 Madrid,\", \"street\": \"Calle...</td>\n",
       "      <td>[International, European, Spanish, Contemporar...</td>\n",
       "      <td>DSTAGE</td>\n",
       "      <td>+34 917 02 15 86</td>\n",
       "      <td>4.0</td>\n",
       "      <td>5</td>\n",
       "      <td>4.5</td>\n",
       "      <td>[{\"type\": \"Service\", \"value\": 5}, {\"type\": \"Fo...</td>\n",
       "      <td>[International, European, Spanish]</td>\n",
       "      <td>2018-05-23 09:13:12</td>\n",
       "    </tr>\n",
       "  </tbody>\n",
       "</table>\n",
       "</div>"
      ],
      "text/plain": [
       "                                                     address  \\\n",
       "_id                                                            \n",
       "d2006562   {\"locality\": \"28028 Madrid,\", \"street\": \"Calle...   \n",
       "d10428302  {\"locality\": \"28014 Madrid,\", \"street\": \"Carre...   \n",
       "d13138415  {\"locality\": \"28001 Madrid,\", \"street\": \"Calle...   \n",
       "d11896546  {\"locality\": \"28005 Madrid,\", \"street\": \"Calle...   \n",
       "d6884911   {\"locality\": \"28004 Madrid,\", \"street\": \"Calle...   \n",
       "\n",
       "                                                    cuisines  \\\n",
       "_id                                                            \n",
       "d2006562   [International, Mediterranean, European, Spani...   \n",
       "d10428302  [Mediterranean, European, Spanish, Contemporar...   \n",
       "d13138415  [Spanish, Mediterranean, Vegetarian Friendly, ...   \n",
       "d11896546  [International, Mediterranean, European, Fusio...   \n",
       "d6884911   [International, European, Spanish, Contemporar...   \n",
       "\n",
       "                                         name             phone  price  \\\n",
       "_id                                                                      \n",
       "d2006562                Los Montes de Galicia  +34 913 55 27 86    2.5   \n",
       "d10428302                                Cebo  +34 917 87 77 80    4.0   \n",
       "d13138415  Restaurante Etimo by Begona Fraire  +34 913 27 36 07    4.0   \n",
       "d11896546                               Astor  +34 910 39 80 00    2.5   \n",
       "d6884911                               DSTAGE  +34 917 02 15 86    4.0   \n",
       "\n",
       "           ranking_position  rating  \\\n",
       "_id                                   \n",
       "d2006562                  1     4.5   \n",
       "d10428302                 2     5.0   \n",
       "d13138415                 4     5.0   \n",
       "d11896546                 3     5.0   \n",
       "d6884911                  5     4.5   \n",
       "\n",
       "                                                     ratings  \\\n",
       "_id                                                            \n",
       "d2006562   [{\"type\": \"Service\", \"value\": 4.5}, {\"type\": \"...   \n",
       "d10428302  [{\"type\": \"Service\", \"value\": 5}, {\"type\": \"Fo...   \n",
       "d13138415  [{\"type\": \"Service\", \"value\": 5}, {\"type\": \"Fo...   \n",
       "d11896546  [{\"type\": \"Service\", \"value\": 5}, {\"type\": \"Fo...   \n",
       "d6884911   [{\"type\": \"Service\", \"value\": 5}, {\"type\": \"Fo...   \n",
       "\n",
       "                                                    tags          updated_at  \n",
       "_id                                                                           \n",
       "d2006562        [International, Mediterranean, European] 2018-05-23 09:12:01  \n",
       "d10428302             [Mediterranean, European, Spanish] 2018-05-23 09:12:28  \n",
       "d13138415  [Spanish, Mediterranean, Vegetarian Friendly] 2018-05-23 09:12:53  \n",
       "d11896546       [International, Mediterranean, European] 2018-05-23 09:12:41  \n",
       "d6884911              [International, European, Spanish] 2018-05-23 09:13:12  "
      ]
     },
     "execution_count": 3,
     "metadata": {},
     "output_type": "execute_result"
    }
   ],
   "source": [
    "restaurants.head()"
   ]
  },
  {
   "cell_type": "code",
   "execution_count": 4,
   "metadata": {},
   "outputs": [
    {
     "name": "stdout",
     "output_type": "stream",
     "text": [
      "<class 'pandas.core.frame.DataFrame'>\n",
      "Index: 13125 entries, d2006562 to d1990905\n",
      "Data columns (total 10 columns):\n",
      "address             13125 non-null object\n",
      "cuisines            13125 non-null object\n",
      "name                13125 non-null object\n",
      "phone               13125 non-null object\n",
      "price               13125 non-null float64\n",
      "ranking_position    13125 non-null int64\n",
      "rating              13125 non-null float64\n",
      "ratings             13125 non-null object\n",
      "tags                13125 non-null object\n",
      "updated_at          13125 non-null datetime64[ns]\n",
      "dtypes: datetime64[ns](1), float64(2), int64(1), object(6)\n",
      "memory usage: 1.1+ MB\n"
     ]
    }
   ],
   "source": [
    "restaurants.info()"
   ]
  },
  {
   "cell_type": "code",
   "execution_count": 5,
   "metadata": {},
   "outputs": [
    {
     "data": {
      "text/html": [
       "<div>\n",
       "<style>\n",
       "    .dataframe thead tr:only-child th {\n",
       "        text-align: right;\n",
       "    }\n",
       "\n",
       "    .dataframe thead th {\n",
       "        text-align: left;\n",
       "    }\n",
       "\n",
       "    .dataframe tbody tr th {\n",
       "        vertical-align: top;\n",
       "    }\n",
       "</style>\n",
       "<table border=\"1\" class=\"dataframe\">\n",
       "  <thead>\n",
       "    <tr style=\"text-align: right;\">\n",
       "      <th></th>\n",
       "      <th>date</th>\n",
       "      <th>language</th>\n",
       "      <th>rating</th>\n",
       "      <th>restaurant_id</th>\n",
       "      <th>text</th>\n",
       "      <th>title</th>\n",
       "      <th>user</th>\n",
       "      <th>via_mobile</th>\n",
       "    </tr>\n",
       "    <tr>\n",
       "      <th>_id</th>\n",
       "      <th></th>\n",
       "      <th></th>\n",
       "      <th></th>\n",
       "      <th></th>\n",
       "      <th></th>\n",
       "      <th></th>\n",
       "      <th></th>\n",
       "      <th></th>\n",
       "    </tr>\n",
       "  </thead>\n",
       "  <tbody>\n",
       "    <tr>\n",
       "      <th>review_579525119</th>\n",
       "      <td>{'$date': '2018-05-11T00:00:00.000Z'}</td>\n",
       "      <td>es</td>\n",
       "      <td>5</td>\n",
       "      <td>d10428302</td>\n",
       "      <td>Cocina espectacular y trato exquisito. El loca...</td>\n",
       "      <td>Una experiencia única.</td>\n",
       "      <td>Daniel P</td>\n",
       "      <td>False</td>\n",
       "    </tr>\n",
       "    <tr>\n",
       "      <th>review_579955527</th>\n",
       "      <td>{'$date': '2018-05-13T00:00:00.000Z'}</td>\n",
       "      <td>es</td>\n",
       "      <td>5</td>\n",
       "      <td>d10428302</td>\n",
       "      <td>De los mejores restaurantes en la actualidad d...</td>\n",
       "      <td>Comida aniversario</td>\n",
       "      <td>Ignacio D</td>\n",
       "      <td>False</td>\n",
       "    </tr>\n",
       "    <tr>\n",
       "      <th>review_579040389</th>\n",
       "      <td>{'$date': '2018-05-09T00:00:00.000Z'}</td>\n",
       "      <td>en</td>\n",
       "      <td>5</td>\n",
       "      <td>d10428302</td>\n",
       "      <td>My wife and I had a reservation during a recen...</td>\n",
       "      <td>Just auperb</td>\n",
       "      <td>Joel A</td>\n",
       "      <td>True</td>\n",
       "    </tr>\n",
       "    <tr>\n",
       "      <th>review_579137239</th>\n",
       "      <td>{'$date': '2018-05-09T00:00:00.000Z'}</td>\n",
       "      <td>ja</td>\n",
       "      <td>3</td>\n",
       "      <td>d10428302</td>\n",
       "      <td>ソルから歩いて１０分かかからない所にあり、立地としては便利です。ホテルの中にあります。お店の...</td>\n",
       "      <td>ミシュラン一つ星かぁ～うーん。</td>\n",
       "      <td>munnku</td>\n",
       "      <td>False</td>\n",
       "    </tr>\n",
       "    <tr>\n",
       "      <th>review_579018189</th>\n",
       "      <td>{'$date': '2018-05-09T00:00:00.000Z'}</td>\n",
       "      <td>es</td>\n",
       "      <td>5</td>\n",
       "      <td>d10428302</td>\n",
       "      <td>La decoración, la iluminación de las mesas (ho...</td>\n",
       "      <td>Excelencia hecha arte</td>\n",
       "      <td>Pedro E</td>\n",
       "      <td>False</td>\n",
       "    </tr>\n",
       "  </tbody>\n",
       "</table>\n",
       "</div>"
      ],
      "text/plain": [
       "                                                   date language  rating  \\\n",
       "_id                                                                        \n",
       "review_579525119  {'$date': '2018-05-11T00:00:00.000Z'}       es       5   \n",
       "review_579955527  {'$date': '2018-05-13T00:00:00.000Z'}       es       5   \n",
       "review_579040389  {'$date': '2018-05-09T00:00:00.000Z'}       en       5   \n",
       "review_579137239  {'$date': '2018-05-09T00:00:00.000Z'}       ja       3   \n",
       "review_579018189  {'$date': '2018-05-09T00:00:00.000Z'}       es       5   \n",
       "\n",
       "                 restaurant_id  \\\n",
       "_id                              \n",
       "review_579525119     d10428302   \n",
       "review_579955527     d10428302   \n",
       "review_579040389     d10428302   \n",
       "review_579137239     d10428302   \n",
       "review_579018189     d10428302   \n",
       "\n",
       "                                                               text  \\\n",
       "_id                                                                   \n",
       "review_579525119  Cocina espectacular y trato exquisito. El loca...   \n",
       "review_579955527  De los mejores restaurantes en la actualidad d...   \n",
       "review_579040389  My wife and I had a reservation during a recen...   \n",
       "review_579137239  ソルから歩いて１０分かかからない所にあり、立地としては便利です。ホテルの中にあります。お店の...   \n",
       "review_579018189  La decoración, la iluminación de las mesas (ho...   \n",
       "\n",
       "                                   title       user  via_mobile  \n",
       "_id                                                              \n",
       "review_579525119  Una experiencia única.   Daniel P       False  \n",
       "review_579955527      Comida aniversario  Ignacio D       False  \n",
       "review_579040389             Just auperb     Joel A        True  \n",
       "review_579137239         ミシュラン一つ星かぁ～うーん。     munnku       False  \n",
       "review_579018189   Excelencia hecha arte    Pedro E       False  "
      ]
     },
     "execution_count": 5,
     "metadata": {},
     "output_type": "execute_result"
    }
   ],
   "source": [
    "reviews.head()"
   ]
  },
  {
   "cell_type": "code",
   "execution_count": 6,
   "metadata": {},
   "outputs": [
    {
     "name": "stdout",
     "output_type": "stream",
     "text": [
      "<class 'pandas.core.frame.DataFrame'>\n",
      "Index: 1362372 entries, review_579525119 to review_15458751\n",
      "Data columns (total 8 columns):\n",
      "date             1362372 non-null object\n",
      "language         1362372 non-null object\n",
      "rating           1362372 non-null int64\n",
      "restaurant_id    1362372 non-null object\n",
      "text             1362372 non-null object\n",
      "title            1362372 non-null object\n",
      "user             1362372 non-null object\n",
      "via_mobile       1362372 non-null bool\n",
      "dtypes: bool(1), int64(1), object(6)\n",
      "memory usage: 84.5+ MB\n"
     ]
    }
   ],
   "source": [
    "reviews.info()"
   ]
  },
  {
   "cell_type": "code",
   "execution_count": 7,
   "metadata": {},
   "outputs": [
    {
     "data": {
      "text/html": [
       "<div>\n",
       "<style>\n",
       "    .dataframe thead tr:only-child th {\n",
       "        text-align: right;\n",
       "    }\n",
       "\n",
       "    .dataframe thead th {\n",
       "        text-align: left;\n",
       "    }\n",
       "\n",
       "    .dataframe tbody tr th {\n",
       "        vertical-align: top;\n",
       "    }\n",
       "</style>\n",
       "<table border=\"1\" class=\"dataframe\">\n",
       "  <thead>\n",
       "    <tr style=\"text-align: right;\">\n",
       "      <th></th>\n",
       "      <th>price</th>\n",
       "      <th>ranking_position</th>\n",
       "      <th>rating</th>\n",
       "    </tr>\n",
       "  </thead>\n",
       "  <tbody>\n",
       "    <tr>\n",
       "      <th>count</th>\n",
       "      <td>13125.000000</td>\n",
       "      <td>13125.000000</td>\n",
       "      <td>13125.000000</td>\n",
       "    </tr>\n",
       "    <tr>\n",
       "      <th>mean</th>\n",
       "      <td>0.951429</td>\n",
       "      <td>3187.121067</td>\n",
       "      <td>3.464114</td>\n",
       "    </tr>\n",
       "    <tr>\n",
       "      <th>std</th>\n",
       "      <td>1.684102</td>\n",
       "      <td>3005.221957</td>\n",
       "      <td>1.442212</td>\n",
       "    </tr>\n",
       "    <tr>\n",
       "      <th>min</th>\n",
       "      <td>-1.000000</td>\n",
       "      <td>-1.000000</td>\n",
       "      <td>-1.000000</td>\n",
       "    </tr>\n",
       "    <tr>\n",
       "      <th>25%</th>\n",
       "      <td>-1.000000</td>\n",
       "      <td>151.000000</td>\n",
       "      <td>3.000000</td>\n",
       "    </tr>\n",
       "    <tr>\n",
       "      <th>50%</th>\n",
       "      <td>1.000000</td>\n",
       "      <td>2543.000000</td>\n",
       "      <td>4.000000</td>\n",
       "    </tr>\n",
       "    <tr>\n",
       "      <th>75%</th>\n",
       "      <td>2.500000</td>\n",
       "      <td>5824.000000</td>\n",
       "      <td>4.500000</td>\n",
       "    </tr>\n",
       "    <tr>\n",
       "      <th>max</th>\n",
       "      <td>4.000000</td>\n",
       "      <td>9109.000000</td>\n",
       "      <td>5.000000</td>\n",
       "    </tr>\n",
       "  </tbody>\n",
       "</table>\n",
       "</div>"
      ],
      "text/plain": [
       "              price  ranking_position        rating\n",
       "count  13125.000000      13125.000000  13125.000000\n",
       "mean       0.951429       3187.121067      3.464114\n",
       "std        1.684102       3005.221957      1.442212\n",
       "min       -1.000000         -1.000000     -1.000000\n",
       "25%       -1.000000        151.000000      3.000000\n",
       "50%        1.000000       2543.000000      4.000000\n",
       "75%        2.500000       5824.000000      4.500000\n",
       "max        4.000000       9109.000000      5.000000"
      ]
     },
     "execution_count": 7,
     "metadata": {},
     "output_type": "execute_result"
    }
   ],
   "source": [
    "restaurants.describe()"
   ]
  },
  {
   "cell_type": "code",
   "execution_count": 8,
   "metadata": {},
   "outputs": [
    {
     "data": {
      "text/html": [
       "<div>\n",
       "<style>\n",
       "    .dataframe thead tr:only-child th {\n",
       "        text-align: right;\n",
       "    }\n",
       "\n",
       "    .dataframe thead th {\n",
       "        text-align: left;\n",
       "    }\n",
       "\n",
       "    .dataframe tbody tr th {\n",
       "        vertical-align: top;\n",
       "    }\n",
       "</style>\n",
       "<table border=\"1\" class=\"dataframe\">\n",
       "  <thead>\n",
       "    <tr style=\"text-align: right;\">\n",
       "      <th></th>\n",
       "      <th>rating</th>\n",
       "    </tr>\n",
       "  </thead>\n",
       "  <tbody>\n",
       "    <tr>\n",
       "      <th>count</th>\n",
       "      <td>1.362372e+06</td>\n",
       "    </tr>\n",
       "    <tr>\n",
       "      <th>mean</th>\n",
       "      <td>4.080268e+00</td>\n",
       "    </tr>\n",
       "    <tr>\n",
       "      <th>std</th>\n",
       "      <td>1.140113e+00</td>\n",
       "    </tr>\n",
       "    <tr>\n",
       "      <th>min</th>\n",
       "      <td>1.000000e+00</td>\n",
       "    </tr>\n",
       "    <tr>\n",
       "      <th>25%</th>\n",
       "      <td>4.000000e+00</td>\n",
       "    </tr>\n",
       "    <tr>\n",
       "      <th>50%</th>\n",
       "      <td>4.000000e+00</td>\n",
       "    </tr>\n",
       "    <tr>\n",
       "      <th>75%</th>\n",
       "      <td>5.000000e+00</td>\n",
       "    </tr>\n",
       "    <tr>\n",
       "      <th>max</th>\n",
       "      <td>5.000000e+00</td>\n",
       "    </tr>\n",
       "  </tbody>\n",
       "</table>\n",
       "</div>"
      ],
      "text/plain": [
       "             rating\n",
       "count  1.362372e+06\n",
       "mean   4.080268e+00\n",
       "std    1.140113e+00\n",
       "min    1.000000e+00\n",
       "25%    4.000000e+00\n",
       "50%    4.000000e+00\n",
       "75%    5.000000e+00\n",
       "max    5.000000e+00"
      ]
     },
     "execution_count": 8,
     "metadata": {},
     "output_type": "execute_result"
    }
   ],
   "source": [
    "reviews.describe()"
   ]
  },
  {
   "cell_type": "markdown",
   "metadata": {},
   "source": [
    "## 1.2. Data Cleaning"
   ]
  },
  {
   "cell_type": "code",
   "execution_count": 9,
   "metadata": {},
   "outputs": [],
   "source": [
    "def non_na_percentage(df):\n",
    "    return (100*df[df.columns].count() \\\n",
    "                 / len(df[df.columns])).sort_values()\n",
    "\n",
    "def replace_value_to_nan(df):\n",
    "    for column in df.columns:\n",
    "        df[column] = df[column].apply(lambda x: None if x == -1 else x)\n",
    "        \n",
    "def diversity_percentage(df, columns):\n",
    "    \"\"\"\n",
    "    This function returns the number of different elements in each column as a percentage of the total \n",
    "    elements in the group.\n",
    "    A low value indicates there are many repeated elements.\n",
    "    Example 1: a value of 0 indicates all values are the same.\n",
    "    Example 2: a value of 100 indicates all values are different.\n",
    "    \"\"\"\n",
    "    diversity = dict()\n",
    "    \n",
    "    for col in columns:\n",
    "        diversity[col] = len(df[col].unique())\n",
    "        \n",
    "    diversity_series = pd.Series(diversity)\n",
    "    return (100*diversity_series/len(df)).sort_values()"
   ]
  },
  {
   "cell_type": "code",
   "execution_count": 10,
   "metadata": {},
   "outputs": [
    {
     "data": {
      "text/plain": [
       "address             100.0\n",
       "cuisines            100.0\n",
       "name                100.0\n",
       "phone               100.0\n",
       "price               100.0\n",
       "ranking_position    100.0\n",
       "rating              100.0\n",
       "ratings             100.0\n",
       "tags                100.0\n",
       "updated_at          100.0\n",
       "dtype: float64"
      ]
     },
     "execution_count": 10,
     "metadata": {},
     "output_type": "execute_result"
    }
   ],
   "source": [
    "non_na_percentage(restaurants)"
   ]
  },
  {
   "cell_type": "code",
   "execution_count": 11,
   "metadata": {},
   "outputs": [
    {
     "data": {
      "text/plain": [
       "date             100.0\n",
       "language         100.0\n",
       "rating           100.0\n",
       "restaurant_id    100.0\n",
       "text             100.0\n",
       "title            100.0\n",
       "user             100.0\n",
       "via_mobile       100.0\n",
       "dtype: float64"
      ]
     },
     "execution_count": 11,
     "metadata": {},
     "output_type": "execute_result"
    }
   ],
   "source": [
    "non_na_percentage(reviews)"
   ]
  },
  {
   "cell_type": "markdown",
   "metadata": {},
   "source": [
    "It seems that all columns have values but this is not true. Some columns have -1 as value whose meaning is NaN. So, let's replace -1 to NaN."
   ]
  },
  {
   "cell_type": "code",
   "execution_count": 12,
   "metadata": {},
   "outputs": [],
   "source": [
    "replace_value_to_nan(restaurants)"
   ]
  },
  {
   "cell_type": "code",
   "execution_count": 13,
   "metadata": {},
   "outputs": [],
   "source": [
    "replace_value_to_nan(reviews)"
   ]
  },
  {
   "cell_type": "code",
   "execution_count": 14,
   "metadata": {},
   "outputs": [
    {
     "data": {
      "text/plain": [
       "price                60.708571\n",
       "ranking_position     92.739048\n",
       "rating               92.792381\n",
       "address             100.000000\n",
       "cuisines            100.000000\n",
       "name                100.000000\n",
       "phone               100.000000\n",
       "ratings             100.000000\n",
       "tags                100.000000\n",
       "updated_at          100.000000\n",
       "dtype: float64"
      ]
     },
     "execution_count": 14,
     "metadata": {},
     "output_type": "execute_result"
    }
   ],
   "source": [
    "non_na_percentage(restaurants)"
   ]
  },
  {
   "cell_type": "markdown",
   "metadata": {},
   "source": [
    "This has more sense. A lot of restaurants have not got price, ranking_position and/or rating"
   ]
  },
  {
   "cell_type": "code",
   "execution_count": 15,
   "metadata": {},
   "outputs": [
    {
     "data": {
      "text/plain": [
       "date             100.0\n",
       "language         100.0\n",
       "rating           100.0\n",
       "restaurant_id    100.0\n",
       "text             100.0\n",
       "title            100.0\n",
       "user             100.0\n",
       "via_mobile       100.0\n",
       "dtype: float64"
      ]
     },
     "execution_count": 15,
     "metadata": {},
     "output_type": "execute_result"
    }
   ],
   "source": [
    "non_na_percentage(reviews)"
   ]
  },
  {
   "cell_type": "code",
   "execution_count": 16,
   "metadata": {},
   "outputs": [
    {
     "data": {
      "text/plain": [
       "price     0.030476\n",
       "rating    0.076190\n",
       "dtype: float64"
      ]
     },
     "execution_count": 16,
     "metadata": {},
     "output_type": "execute_result"
    }
   ],
   "source": [
    "diversity_percentage(restaurants, ['price', 'rating'])"
   ]
  },
  {
   "cell_type": "code",
   "execution_count": 17,
   "metadata": {},
   "outputs": [
    {
     "data": {
      "text/plain": [
       "rating      0.000367\n",
       "language    0.003083\n",
       "dtype: float64"
      ]
     },
     "execution_count": 17,
     "metadata": {},
     "output_type": "execute_result"
    }
   ],
   "source": [
    "diversity_percentage(reviews, ['language', 'rating'])"
   ]
  },
  {
   "cell_type": "markdown",
   "metadata": {},
   "source": [
    "As we can see, the result is really close to 0. This means that is a categorical variable"
   ]
  },
  {
   "cell_type": "markdown",
   "metadata": {},
   "source": [
    "## 1.3. Feature Engineering"
   ]
  },
  {
   "cell_type": "markdown",
   "metadata": {},
   "source": [
    "If you look at previous data, there are some columns that need to be cleaned:\n",
    "\n",
    "- Restaurant:\n",
    "    - Address: It's a string with JSON format and multiple data\n",
    "    - Ratings: It's a string with JSON format and multiple data\n",
    "- Review:\n",
    "    - Date: It's a string with JSON format"
   ]
  },
  {
   "cell_type": "code",
   "execution_count": 18,
   "metadata": {},
   "outputs": [],
   "source": [
    "# Splitting column address into street, locality and country\n",
    "restaurants['street'] = restaurants['address'].apply(lambda x: json.loads(x)['street'])\n",
    "restaurants['locality'] = restaurants['address'].apply(lambda x: json.loads(x)['locality'].replace(\",\", \"\"))\n",
    "restaurants['country'] = restaurants['address'].apply(lambda x: json.loads(x)['country'])\n",
    "del restaurants['address']"
   ]
  },
  {
   "cell_type": "code",
   "execution_count": 19,
   "metadata": {},
   "outputs": [],
   "source": [
    "restaurants['reviews'] = [reviews[reviews['restaurant_id'] == index]['restaurant_id'].count() for index, restaurant in restaurants.iterrows()]"
   ]
  },
  {
   "cell_type": "code",
   "execution_count": 20,
   "metadata": {},
   "outputs": [],
   "source": [
    "# Splitting locality that contains postal code and locality in two columns\n",
    "restaurants['postal code'], restaurants['locality'] = restaurants['locality'].str.split(' ', 1).str"
   ]
  },
  {
   "cell_type": "code",
   "execution_count": 21,
   "metadata": {},
   "outputs": [],
   "source": [
    "# The ratings sometimes have the address so let's fix it.\n",
    "# First of all, we should check which categories we have in rating\n",
    "rating_types = []\n",
    "def get_rating_types(ratings):\n",
    "    ratings = json.loads(ratings)\n",
    "    for rating in ratings:\n",
    "        rating_type = rating[\"type\"]\n",
    "        if rating[\"value\"] != -1 and rating_type not in rating_types:\n",
    "            rating_types.append(rating_type)            \n",
    "\n",
    "restaurants['ratings'].apply(lambda x: get_rating_types(x))\n",
    "\n",
    "def get_rating_values(rating_type, ratings):\n",
    "    ratings = json.loads(ratings)\n",
    "    for rating in ratings:\n",
    "        rating_value = rating[\"value\"]\n",
    "        if rating_type == rating[\"type\"] and rating_value != -1:\n",
    "            return rating_value\n",
    "    return None\n",
    "\n",
    "# For every category in ratings, we are creating a new column\n",
    "for rating_type in rating_types:\n",
    "    restaurants[rating_type.lower() + ' rating'] = restaurants['ratings'].apply(lambda x: get_rating_values(rating_type, x))\n",
    "\n",
    "del restaurants['ratings']"
   ]
  },
  {
   "cell_type": "code",
   "execution_count": 22,
   "metadata": {},
   "outputs": [],
   "source": [
    "# Converting date column to datetime format\n",
    "reviews['date'] = reviews['date'].apply(lambda x: x['$date'])\n",
    "reviews['date'] = pd.to_datetime(reviews['date'], format='%Y-%m-%dT%H:%M:%S.%f')"
   ]
  },
  {
   "cell_type": "code",
   "execution_count": 23,
   "metadata": {},
   "outputs": [],
   "source": [
    "reviews['text length'] = reviews['text'].apply(len)"
   ]
  },
  {
   "cell_type": "code",
   "execution_count": 24,
   "metadata": {},
   "outputs": [
    {
     "data": {
      "text/html": [
       "<div>\n",
       "<style>\n",
       "    .dataframe thead tr:only-child th {\n",
       "        text-align: right;\n",
       "    }\n",
       "\n",
       "    .dataframe thead th {\n",
       "        text-align: left;\n",
       "    }\n",
       "\n",
       "    .dataframe tbody tr th {\n",
       "        vertical-align: top;\n",
       "    }\n",
       "</style>\n",
       "<table border=\"1\" class=\"dataframe\">\n",
       "  <thead>\n",
       "    <tr style=\"text-align: right;\">\n",
       "      <th></th>\n",
       "      <th>cuisines</th>\n",
       "      <th>name</th>\n",
       "      <th>phone</th>\n",
       "      <th>price</th>\n",
       "      <th>ranking_position</th>\n",
       "      <th>rating</th>\n",
       "      <th>tags</th>\n",
       "      <th>updated_at</th>\n",
       "      <th>street</th>\n",
       "      <th>locality</th>\n",
       "      <th>country</th>\n",
       "      <th>reviews</th>\n",
       "      <th>postal code</th>\n",
       "      <th>service rating</th>\n",
       "      <th>food rating</th>\n",
       "      <th>value rating</th>\n",
       "      <th>atmosphere rating</th>\n",
       "    </tr>\n",
       "    <tr>\n",
       "      <th>_id</th>\n",
       "      <th></th>\n",
       "      <th></th>\n",
       "      <th></th>\n",
       "      <th></th>\n",
       "      <th></th>\n",
       "      <th></th>\n",
       "      <th></th>\n",
       "      <th></th>\n",
       "      <th></th>\n",
       "      <th></th>\n",
       "      <th></th>\n",
       "      <th></th>\n",
       "      <th></th>\n",
       "      <th></th>\n",
       "      <th></th>\n",
       "      <th></th>\n",
       "      <th></th>\n",
       "    </tr>\n",
       "  </thead>\n",
       "  <tbody>\n",
       "    <tr>\n",
       "      <th>d2006562</th>\n",
       "      <td>[International, Mediterranean, European, Spani...</td>\n",
       "      <td>Los Montes de Galicia</td>\n",
       "      <td>+34 913 55 27 86</td>\n",
       "      <td>2.5</td>\n",
       "      <td>1.0</td>\n",
       "      <td>4.5</td>\n",
       "      <td>[International, Mediterranean, European]</td>\n",
       "      <td>2018-05-23 09:12:01</td>\n",
       "      <td>Calle Azcona 46</td>\n",
       "      <td>Madrid</td>\n",
       "      <td>Spain</td>\n",
       "      <td>4474</td>\n",
       "      <td>28028</td>\n",
       "      <td>4.5</td>\n",
       "      <td>4.5</td>\n",
       "      <td>4.5</td>\n",
       "      <td>4.5</td>\n",
       "    </tr>\n",
       "    <tr>\n",
       "      <th>d10428302</th>\n",
       "      <td>[Mediterranean, European, Spanish, Contemporar...</td>\n",
       "      <td>Cebo</td>\n",
       "      <td>+34 917 87 77 80</td>\n",
       "      <td>4.0</td>\n",
       "      <td>2.0</td>\n",
       "      <td>5.0</td>\n",
       "      <td>[Mediterranean, European, Spanish]</td>\n",
       "      <td>2018-05-23 09:12:28</td>\n",
       "      <td>Carrera San Jeronimo 34</td>\n",
       "      <td>Madrid</td>\n",
       "      <td>Spain</td>\n",
       "      <td>536</td>\n",
       "      <td>28014</td>\n",
       "      <td>5.0</td>\n",
       "      <td>4.5</td>\n",
       "      <td>4.5</td>\n",
       "      <td>NaN</td>\n",
       "    </tr>\n",
       "    <tr>\n",
       "      <th>d13138415</th>\n",
       "      <td>[Spanish, Mediterranean, Vegetarian Friendly, ...</td>\n",
       "      <td>Restaurante Etimo by Begona Fraire</td>\n",
       "      <td>+34 913 27 36 07</td>\n",
       "      <td>4.0</td>\n",
       "      <td>4.0</td>\n",
       "      <td>5.0</td>\n",
       "      <td>[Spanish, Mediterranean, Vegetarian Friendly]</td>\n",
       "      <td>2018-05-23 09:12:53</td>\n",
       "      <td>Calle Ayala 27</td>\n",
       "      <td>Madrid</td>\n",
       "      <td>Spain</td>\n",
       "      <td>219</td>\n",
       "      <td>28001</td>\n",
       "      <td>5.0</td>\n",
       "      <td>5.0</td>\n",
       "      <td>4.5</td>\n",
       "      <td>NaN</td>\n",
       "    </tr>\n",
       "    <tr>\n",
       "      <th>d11896546</th>\n",
       "      <td>[International, Mediterranean, European, Fusio...</td>\n",
       "      <td>Astor</td>\n",
       "      <td>+34 910 39 80 00</td>\n",
       "      <td>2.5</td>\n",
       "      <td>3.0</td>\n",
       "      <td>5.0</td>\n",
       "      <td>[International, Mediterranean, European]</td>\n",
       "      <td>2018-05-23 09:12:41</td>\n",
       "      <td>Calle del Almendro 9</td>\n",
       "      <td>Madrid</td>\n",
       "      <td>Spain</td>\n",
       "      <td>461</td>\n",
       "      <td>28005</td>\n",
       "      <td>5.0</td>\n",
       "      <td>5.0</td>\n",
       "      <td>4.5</td>\n",
       "      <td>NaN</td>\n",
       "    </tr>\n",
       "    <tr>\n",
       "      <th>d6884911</th>\n",
       "      <td>[International, European, Spanish, Contemporar...</td>\n",
       "      <td>DSTAGE</td>\n",
       "      <td>+34 917 02 15 86</td>\n",
       "      <td>4.0</td>\n",
       "      <td>5.0</td>\n",
       "      <td>4.5</td>\n",
       "      <td>[International, European, Spanish]</td>\n",
       "      <td>2018-05-23 09:13:12</td>\n",
       "      <td>Calle de Regueros, 8</td>\n",
       "      <td>Madrid</td>\n",
       "      <td>Spain</td>\n",
       "      <td>1833</td>\n",
       "      <td>28004</td>\n",
       "      <td>5.0</td>\n",
       "      <td>5.0</td>\n",
       "      <td>4.5</td>\n",
       "      <td>4.5</td>\n",
       "    </tr>\n",
       "  </tbody>\n",
       "</table>\n",
       "</div>"
      ],
      "text/plain": [
       "                                                    cuisines  \\\n",
       "_id                                                            \n",
       "d2006562   [International, Mediterranean, European, Spani...   \n",
       "d10428302  [Mediterranean, European, Spanish, Contemporar...   \n",
       "d13138415  [Spanish, Mediterranean, Vegetarian Friendly, ...   \n",
       "d11896546  [International, Mediterranean, European, Fusio...   \n",
       "d6884911   [International, European, Spanish, Contemporar...   \n",
       "\n",
       "                                         name             phone  price  \\\n",
       "_id                                                                      \n",
       "d2006562                Los Montes de Galicia  +34 913 55 27 86    2.5   \n",
       "d10428302                                Cebo  +34 917 87 77 80    4.0   \n",
       "d13138415  Restaurante Etimo by Begona Fraire  +34 913 27 36 07    4.0   \n",
       "d11896546                               Astor  +34 910 39 80 00    2.5   \n",
       "d6884911                               DSTAGE  +34 917 02 15 86    4.0   \n",
       "\n",
       "           ranking_position  rating  \\\n",
       "_id                                   \n",
       "d2006562                1.0     4.5   \n",
       "d10428302               2.0     5.0   \n",
       "d13138415               4.0     5.0   \n",
       "d11896546               3.0     5.0   \n",
       "d6884911                5.0     4.5   \n",
       "\n",
       "                                                    tags          updated_at  \\\n",
       "_id                                                                            \n",
       "d2006562        [International, Mediterranean, European] 2018-05-23 09:12:01   \n",
       "d10428302             [Mediterranean, European, Spanish] 2018-05-23 09:12:28   \n",
       "d13138415  [Spanish, Mediterranean, Vegetarian Friendly] 2018-05-23 09:12:53   \n",
       "d11896546       [International, Mediterranean, European] 2018-05-23 09:12:41   \n",
       "d6884911              [International, European, Spanish] 2018-05-23 09:13:12   \n",
       "\n",
       "                            street locality country  reviews postal code  \\\n",
       "_id                                                                        \n",
       "d2006562           Calle Azcona 46   Madrid   Spain     4474       28028   \n",
       "d10428302  Carrera San Jeronimo 34   Madrid   Spain      536       28014   \n",
       "d13138415           Calle Ayala 27   Madrid   Spain      219       28001   \n",
       "d11896546     Calle del Almendro 9   Madrid   Spain      461       28005   \n",
       "d6884911      Calle de Regueros, 8   Madrid   Spain     1833       28004   \n",
       "\n",
       "           service rating  food rating  value rating  atmosphere rating  \n",
       "_id                                                                      \n",
       "d2006562              4.5          4.5           4.5                4.5  \n",
       "d10428302             5.0          4.5           4.5                NaN  \n",
       "d13138415             5.0          5.0           4.5                NaN  \n",
       "d11896546             5.0          5.0           4.5                NaN  \n",
       "d6884911              5.0          5.0           4.5                4.5  "
      ]
     },
     "execution_count": 24,
     "metadata": {},
     "output_type": "execute_result"
    }
   ],
   "source": [
    "restaurants.head()"
   ]
  },
  {
   "cell_type": "code",
   "execution_count": 25,
   "metadata": {},
   "outputs": [
    {
     "data": {
      "text/html": [
       "<div>\n",
       "<style>\n",
       "    .dataframe thead tr:only-child th {\n",
       "        text-align: right;\n",
       "    }\n",
       "\n",
       "    .dataframe thead th {\n",
       "        text-align: left;\n",
       "    }\n",
       "\n",
       "    .dataframe tbody tr th {\n",
       "        vertical-align: top;\n",
       "    }\n",
       "</style>\n",
       "<table border=\"1\" class=\"dataframe\">\n",
       "  <thead>\n",
       "    <tr style=\"text-align: right;\">\n",
       "      <th></th>\n",
       "      <th>date</th>\n",
       "      <th>language</th>\n",
       "      <th>rating</th>\n",
       "      <th>restaurant_id</th>\n",
       "      <th>text</th>\n",
       "      <th>title</th>\n",
       "      <th>user</th>\n",
       "      <th>via_mobile</th>\n",
       "      <th>text length</th>\n",
       "    </tr>\n",
       "    <tr>\n",
       "      <th>_id</th>\n",
       "      <th></th>\n",
       "      <th></th>\n",
       "      <th></th>\n",
       "      <th></th>\n",
       "      <th></th>\n",
       "      <th></th>\n",
       "      <th></th>\n",
       "      <th></th>\n",
       "      <th></th>\n",
       "    </tr>\n",
       "  </thead>\n",
       "  <tbody>\n",
       "    <tr>\n",
       "      <th>review_579525119</th>\n",
       "      <td>2018-05-11</td>\n",
       "      <td>es</td>\n",
       "      <td>5</td>\n",
       "      <td>d10428302</td>\n",
       "      <td>Cocina espectacular y trato exquisito. El loca...</td>\n",
       "      <td>Una experiencia única.</td>\n",
       "      <td>Daniel P</td>\n",
       "      <td>False</td>\n",
       "      <td>110</td>\n",
       "    </tr>\n",
       "    <tr>\n",
       "      <th>review_579955527</th>\n",
       "      <td>2018-05-13</td>\n",
       "      <td>es</td>\n",
       "      <td>5</td>\n",
       "      <td>d10428302</td>\n",
       "      <td>De los mejores restaurantes en la actualidad d...</td>\n",
       "      <td>Comida aniversario</td>\n",
       "      <td>Ignacio D</td>\n",
       "      <td>False</td>\n",
       "      <td>318</td>\n",
       "    </tr>\n",
       "    <tr>\n",
       "      <th>review_579040389</th>\n",
       "      <td>2018-05-09</td>\n",
       "      <td>en</td>\n",
       "      <td>5</td>\n",
       "      <td>d10428302</td>\n",
       "      <td>My wife and I had a reservation during a recen...</td>\n",
       "      <td>Just auperb</td>\n",
       "      <td>Joel A</td>\n",
       "      <td>True</td>\n",
       "      <td>507</td>\n",
       "    </tr>\n",
       "    <tr>\n",
       "      <th>review_579137239</th>\n",
       "      <td>2018-05-09</td>\n",
       "      <td>ja</td>\n",
       "      <td>3</td>\n",
       "      <td>d10428302</td>\n",
       "      <td>ソルから歩いて１０分かかからない所にあり、立地としては便利です。ホテルの中にあります。お店の...</td>\n",
       "      <td>ミシュラン一つ星かぁ～うーん。</td>\n",
       "      <td>munnku</td>\n",
       "      <td>False</td>\n",
       "      <td>239</td>\n",
       "    </tr>\n",
       "    <tr>\n",
       "      <th>review_579018189</th>\n",
       "      <td>2018-05-09</td>\n",
       "      <td>es</td>\n",
       "      <td>5</td>\n",
       "      <td>d10428302</td>\n",
       "      <td>La decoración, la iluminación de las mesas (ho...</td>\n",
       "      <td>Excelencia hecha arte</td>\n",
       "      <td>Pedro E</td>\n",
       "      <td>False</td>\n",
       "      <td>175</td>\n",
       "    </tr>\n",
       "  </tbody>\n",
       "</table>\n",
       "</div>"
      ],
      "text/plain": [
       "                       date language  rating restaurant_id  \\\n",
       "_id                                                          \n",
       "review_579525119 2018-05-11       es       5     d10428302   \n",
       "review_579955527 2018-05-13       es       5     d10428302   \n",
       "review_579040389 2018-05-09       en       5     d10428302   \n",
       "review_579137239 2018-05-09       ja       3     d10428302   \n",
       "review_579018189 2018-05-09       es       5     d10428302   \n",
       "\n",
       "                                                               text  \\\n",
       "_id                                                                   \n",
       "review_579525119  Cocina espectacular y trato exquisito. El loca...   \n",
       "review_579955527  De los mejores restaurantes en la actualidad d...   \n",
       "review_579040389  My wife and I had a reservation during a recen...   \n",
       "review_579137239  ソルから歩いて１０分かかからない所にあり、立地としては便利です。ホテルの中にあります。お店の...   \n",
       "review_579018189  La decoración, la iluminación de las mesas (ho...   \n",
       "\n",
       "                                   title       user  via_mobile  text length  \n",
       "_id                                                                           \n",
       "review_579525119  Una experiencia única.   Daniel P       False          110  \n",
       "review_579955527      Comida aniversario  Ignacio D       False          318  \n",
       "review_579040389             Just auperb     Joel A        True          507  \n",
       "review_579137239         ミシュラン一つ星かぁ～うーん。     munnku       False          239  \n",
       "review_579018189   Excelencia hecha arte    Pedro E       False          175  "
      ]
     },
     "execution_count": 25,
     "metadata": {},
     "output_type": "execute_result"
    }
   ],
   "source": [
    "reviews.head()"
   ]
  },
  {
   "cell_type": "code",
   "execution_count": 26,
   "metadata": {},
   "outputs": [
    {
     "data": {
      "text/plain": [
       "atmosphere rating     42.895238\n",
       "price                 60.708571\n",
       "food rating           84.365714\n",
       "value rating          84.502857\n",
       "service rating        84.655238\n",
       "ranking_position      92.739048\n",
       "rating                92.792381\n",
       "locality              96.312381\n",
       "postal code          100.000000\n",
       "reviews              100.000000\n",
       "cuisines             100.000000\n",
       "updated_at           100.000000\n",
       "tags                 100.000000\n",
       "phone                100.000000\n",
       "name                 100.000000\n",
       "country              100.000000\n",
       "street               100.000000\n",
       "dtype: float64"
      ]
     },
     "execution_count": 26,
     "metadata": {},
     "output_type": "execute_result"
    }
   ],
   "source": [
    "non_na_percentage(restaurants)"
   ]
  },
  {
   "cell_type": "code",
   "execution_count": 27,
   "metadata": {},
   "outputs": [
    {
     "data": {
      "text/plain": [
       "date             100.0\n",
       "language         100.0\n",
       "rating           100.0\n",
       "restaurant_id    100.0\n",
       "text             100.0\n",
       "title            100.0\n",
       "user             100.0\n",
       "via_mobile       100.0\n",
       "text length      100.0\n",
       "dtype: float64"
      ]
     },
     "execution_count": 27,
     "metadata": {},
     "output_type": "execute_result"
    }
   ],
   "source": [
    "non_na_percentage(reviews)"
   ]
  },
  {
   "cell_type": "markdown",
   "metadata": {},
   "source": [
    "Now, we have two dataframes with better data structure"
   ]
  },
  {
   "cell_type": "markdown",
   "metadata": {},
   "source": [
    "## 1.4. Data Analysis"
   ]
  },
  {
   "cell_type": "code",
   "execution_count": 28,
   "metadata": {},
   "outputs": [
    {
     "data": {
      "image/png": "[encoded data removed]",
      "text/plain": [
       "<matplotlib.figure.Figure at 0x1a17869a20>"
      ]
     },
     "metadata": {},
     "output_type": "display_data"
    }
   ],
   "source": [
    "f, ax = plt.subplots(figsize=(10, 8))\n",
    "corr = restaurants.corr()\n",
    "_ = sns.heatmap(corr, mask=np.zeros_like(corr, dtype=np.bool), cmap=sns.diverging_palette(220, 10, as_cmap=True),\n",
    "            square=True, ax=ax)"
   ]
  },
  {
   "cell_type": "markdown",
   "metadata": {},
   "source": [
    "As you can see, the correlation matrix does not contribute a lot to clarify the relationships between variables. However, there's a strong correlation between rating variables."
   ]
  },
  {
   "cell_type": "markdown",
   "metadata": {},
   "source": [
    "### 1.4.1. Language"
   ]
  },
  {
   "cell_type": "markdown",
   "metadata": {},
   "source": [
    "Spain is a country that many people like to visit. The sun, the food... There are many reasons to visit Spain. So, I guess that many reviews are written in foreign languages"
   ]
  },
  {
   "cell_type": "code",
   "execution_count": 29,
   "metadata": {},
   "outputs": [],
   "source": [
    "df_languages = pd.read_csv('language_codes.csv')"
   ]
  },
  {
   "cell_type": "code",
   "execution_count": 30,
   "metadata": {},
   "outputs": [],
   "source": [
    "reviews['language'] = reviews['language'].replace('zh-cn', 'zh').replace('zh-tw', 'zh')"
   ]
  },
  {
   "cell_type": "markdown",
   "metadata": {},
   "source": [
    "I have replaced simplified chinese and Taiwan chinese with just chinese because the dataset with all languages only include this language"
   ]
  },
  {
   "cell_type": "code",
   "execution_count": 31,
   "metadata": {},
   "outputs": [
    {
     "data": {
      "text/plain": [
       "[Spanish; Castilian]               877998\n",
       "[English]                          261224\n",
       "[Italian]                           80575\n",
       "[French]                            53058\n",
       "[Portuguese]                        28788\n",
       "[German]                            15223\n",
       "[Russian]                           11086\n",
       "[Dutch; Flemish]                    10686\n",
       "[Swedish]                            3902\n",
       "[Japanese]                           3619\n",
       "[Danish]                             2895\n",
       "[Korean]                             2683\n",
       "[Norwegian]                          2329\n",
       "[Chinese]                            2280\n",
       "[Polish]                             1268\n",
       "[Turkish]                            1215\n",
       "[Hebrew]                             1099\n",
       "[Greek, Modern (1453-)]               730\n",
       "[Hungarian]                           484\n",
       "[Finnish]                             376\n",
       "[Arabic]                              182\n",
       "[Catalan; Valencian]                  159\n",
       "[Czech]                               141\n",
       "[Afrikaans]                           120\n",
       "[Indonesian]                           61\n",
       "[Slovak]                               30\n",
       "[Croatian]                             28\n",
       "[Romanian; Moldavian; Moldovan]        21\n",
       "[Vietnamese]                           19\n",
       "[Somali]                               14\n",
       "[Lithuanian]                           13\n",
       "[Estonian]                             12\n",
       "[Thai]                                 11\n",
       "[Tagalog]                               9\n",
       "[Welsh]                                 8\n",
       "[Slovenian]                             8\n",
       "[Bulgarian]                             5\n",
       "[Swahili]                               4\n",
       "[Persian]                               3\n",
       "[Albanian]                              3\n",
       "[Latvian]                               3\n",
       "Name: language, dtype: int64"
      ]
     },
     "execution_count": 31,
     "metadata": {},
     "output_type": "execute_result"
    }
   ],
   "source": [
    "reviews['language'].value_counts().rename(lambda x: df_languages[df_languages['alpha2'] == x]['English'])"
   ]
  },
  {
   "cell_type": "markdown",
   "metadata": {},
   "source": [
    "The top language is spanish as I expected. The following top languages are english, italian, french and portuguese."
   ]
  },
  {
   "cell_type": "markdown",
   "metadata": {},
   "source": [
    "### 1.4.2. Rating"
   ]
  },
  {
   "cell_type": "code",
   "execution_count": 32,
   "metadata": {},
   "outputs": [
    {
     "data": {
      "image/png": "[encoded data removed]",
      "text/plain": [
       "<matplotlib.figure.Figure at 0x1a178639e8>"
      ]
     },
     "metadata": {},
     "output_type": "display_data"
    }
   ],
   "source": [
    "x = reviews['rating'].value_counts()\n",
    "x = x.sort_index()\n",
    "\n",
    "plt.figure(figsize=(8,4))\n",
    "ax= sns.barplot(x.index, x.values, alpha=0.8)\n",
    "plt.title(\"Rating Distribution\")\n",
    "plt.ylabel('# of reviews', fontsize=12)\n",
    "plt.xlabel('Ratings ', fontsize=12)\n",
    "\n",
    "rects = ax.patches\n",
    "labels = x.values\n",
    "for rect, label in zip(rects, labels):\n",
    "    height = rect.get_height()\n",
    "    ax.text(rect.get_x() + rect.get_width()/2, height + 5, label, ha='center', va='bottom')"
   ]
  },
  {
   "cell_type": "markdown",
   "metadata": {},
   "source": [
    "It seems that people are happy with the restaurants they visit. There are a lot of 5-4 stars reviews!"
   ]
  },
  {
   "cell_type": "code",
   "execution_count": 33,
   "metadata": {},
   "outputs": [
    {
     "data": {
      "text/plain": [
       "<seaborn.axisgrid.FacetGrid at 0x1a178e1710>"
      ]
     },
     "execution_count": 33,
     "metadata": {},
     "output_type": "execute_result"
    },
    {
     "data": {
      "image/png": "[encoded data removed]",
      "text/plain": [
       "<matplotlib.figure.Figure at 0x10d6d4048>"
      ]
     },
     "metadata": {},
     "output_type": "display_data"
    }
   ],
   "source": [
    "g = sns.FacetGrid(data=reviews, col='rating')\n",
    "g.map(plt.hist, 'text length', bins=50)"
   ]
  },
  {
   "cell_type": "code",
   "execution_count": 34,
   "metadata": {},
   "outputs": [
    {
     "name": "stdout",
     "output_type": "stream",
     "text": [
      "The median characters with 1 stars: 393\n",
      "The mean characters with 1 stars: 524\n",
      "The median characters with 2 stars: 388\n",
      "The mean characters with 2 stars: 505\n",
      "The median characters with 3 stars: 307\n",
      "The mean characters with 3 stars: 405\n",
      "The median characters with 4 stars: 267\n",
      "The mean characters with 4 stars: 345\n",
      "The median characters with 5 stars: 259\n",
      "The mean characters with 5 stars: 339\n"
     ]
    }
   ],
   "source": [
    "for i in range(1,6):\n",
    "    print('The median characters with {} stars: {}'.format(i, int(np.median(reviews[reviews['rating'] == i]['text length']))))\n",
    "    print('The mean characters with {} stars: {}'.format(i, int(np.mean(reviews[reviews['rating'] == i]['text length']))))"
   ]
  },
  {
   "cell_type": "markdown",
   "metadata": {},
   "source": [
    "People furious with the restaurant (1-2 stars) spend more time (almost twice) writing a review than people who love the place"
   ]
  },
  {
   "cell_type": "code",
   "execution_count": 35,
   "metadata": {},
   "outputs": [
    {
     "name": "stdout",
     "output_type": "stream",
     "text": [
      "Spanish rating (mean): 3.95\n",
      "English rating (mean): 4.37\n",
      "Italian rating (mean): 4.17\n",
      "Frech rating (mean): 4.29\n",
      "Portuguese rating (mean): 4.31\n"
     ]
    }
   ],
   "source": [
    "spanish_mean_rating = np.mean(reviews[reviews['language'] == 'es']['rating'])\n",
    "english_mean_rating = np.mean(reviews[reviews['language'] == 'en']['rating'])\n",
    "italian_mean_rating = np.mean(reviews[reviews['language'] == 'it']['rating'])\n",
    "frech_mean_rating = np.mean(reviews[reviews['language'] == 'fr']['rating'])\n",
    "portuguese_mean_rating = np.mean(reviews[reviews['language'] == 'pt']['rating'])\n",
    "\n",
    "print('Spanish rating (mean): {0:.2f}'.format(spanish_mean_rating))\n",
    "print('English rating (mean): {0:.2f}'.format(english_mean_rating))\n",
    "print('Italian rating (mean): {0:.2f}'.format(italian_mean_rating))\n",
    "print('Frech rating (mean): {0:.2f}'.format(frech_mean_rating))\n",
    "print('Portuguese rating (mean): {0:.2f}'.format(portuguese_mean_rating))"
   ]
  },
  {
   "cell_type": "markdown",
   "metadata": {},
   "source": [
    "### 1.4.3. Cuisines"
   ]
  },
  {
   "cell_type": "code",
   "execution_count": 36,
   "metadata": {},
   "outputs": [],
   "source": [
    "popular_restaurants = restaurants.sort_values(by='reviews', ascending=False).head(20)"
   ]
  },
  {
   "cell_type": "code",
   "execution_count": 37,
   "metadata": {},
   "outputs": [],
   "source": [
    "def count_list_ocurrences(element_list, elements_dict):\n",
    "    for element in element_list:\n",
    "        if element in elements_dict:\n",
    "            elements_dict[element] += 1\n",
    "        else:\n",
    "            elements_dict[element] = 1"
   ]
  },
  {
   "cell_type": "code",
   "execution_count": 38,
   "metadata": {},
   "outputs": [
    {
     "data": {
      "text/plain": [
       "[('Spanish', 17),\n",
       " ('Gluten Free Options', 17),\n",
       " ('Mediterranean', 16),\n",
       " ('Vegetarian Friendly', 15),\n",
       " ('Vegan Options', 15),\n",
       " ('European', 12),\n",
       " ('International', 3),\n",
       " ('Fusion', 3),\n",
       " ('Seafood', 2),\n",
       " ('Soups', 2),\n",
       " ('Japanese', 2),\n",
       " ('Asian', 2),\n",
       " ('Contemporary', 2),\n",
       " ('Sushi', 1),\n",
       " ('Bar', 1),\n",
       " ('Peruvian', 1),\n",
       " ('Italian', 1)]"
      ]
     },
     "execution_count": 38,
     "metadata": {},
     "output_type": "execute_result"
    }
   ],
   "source": [
    "cuisines_dict = {}\n",
    "for cuisines in popular_restaurants['cuisines']:\n",
    "    count_list_ocurrences(cuisines, cuisines_dict)\n",
    "\n",
    "popular_cuisines = sorted(cuisines_dict.items(), key = operator.itemgetter(1), reverse=True)\n",
    "popular_cuisines"
   ]
  },
  {
   "cell_type": "markdown",
   "metadata": {},
   "source": [
    "Spanish, gluten free options, mediterranean, vegetarian friendly, vengan options and european food are really popular in Spain."
   ]
  },
  {
   "cell_type": "code",
   "execution_count": 39,
   "metadata": {},
   "outputs": [],
   "source": [
    "expensive_restaurants = restaurants.sort_values(by=['price'], ascending=False).head(20)"
   ]
  },
  {
   "cell_type": "code",
   "execution_count": 40,
   "metadata": {},
   "outputs": [
    {
     "data": {
      "text/plain": [
       "[('Mediterranean', 14),\n",
       " ('Spanish', 12),\n",
       " ('European', 10),\n",
       " ('Gluten Free Options', 10),\n",
       " ('Vegetarian Friendly', 9),\n",
       " ('Vegan Options', 8),\n",
       " ('Fusion', 3),\n",
       " ('International', 2),\n",
       " ('Japanese', 2),\n",
       " ('Contemporary', 2),\n",
       " ('Colombian', 1),\n",
       " ('Mexican', 1),\n",
       " ('Latin', 1),\n",
       " ('Sushi', 1),\n",
       " ('Asian', 1),\n",
       " ('Deli', 1),\n",
       " ('Italian', 1),\n",
       " ('Russian', 1)]"
      ]
     },
     "execution_count": 40,
     "metadata": {},
     "output_type": "execute_result"
    }
   ],
   "source": [
    "cuisines_exp_dict = {}\n",
    "for cuisines in expensive_restaurants['cuisines']:\n",
    "    count_list_ocurrences(cuisines, cuisines_exp_dict)\n",
    "\n",
    "popular_exp_cuisines = sorted(cuisines_exp_dict.items(), key = operator.itemgetter(1), reverse=True)\n",
    "popular_exp_cuisines"
   ]
  },
  {
   "cell_type": "markdown",
   "metadata": {},
   "source": [
    "If we sort by price, we get the same results than just sorting by reviews with one exception: vengan options."
   ]
  },
  {
   "cell_type": "markdown",
   "metadata": {},
   "source": [
    "### 1.4.4. Via mobile"
   ]
  },
  {
   "cell_type": "code",
   "execution_count": 41,
   "metadata": {},
   "outputs": [
    {
     "data": {
      "text/plain": [
       "False    698043\n",
       "True     664329\n",
       "Name: via_mobile, dtype: int64"
      ]
     },
     "execution_count": 41,
     "metadata": {},
     "output_type": "execute_result"
    }
   ],
   "source": [
    "reviews['via_mobile'].value_counts()"
   ]
  },
  {
   "cell_type": "code",
   "execution_count": 42,
   "metadata": {},
   "outputs": [
    {
     "name": "stdout",
     "output_type": "stream",
     "text": [
      "Via mobile rating (mean): 4.09\n",
      "No via mobile rating (mean): 4.07\n"
     ]
    }
   ],
   "source": [
    "via_mobile_true_mean_rating = np.mean(reviews[reviews['via_mobile'] == True]['rating'])\n",
    "via_mobile_false_mean_rating = np.mean(reviews[reviews['via_mobile'] == False]['rating'])\n",
    "print('Via mobile rating (mean): {0:.2f}'.format(via_mobile_true_mean_rating))\n",
    "print('No via mobile rating (mean): {0:.2f}'.format(via_mobile_false_mean_rating))"
   ]
  },
  {
   "cell_type": "markdown",
   "metadata": {},
   "source": [
    "People that review a restaurant from a mobile device rate with the same stars than people who do it from a computer."
   ]
  },
  {
   "cell_type": "markdown",
   "metadata": {},
   "source": [
    "## 2. Text Classification"
   ]
  },
  {
   "cell_type": "code",
   "execution_count": 43,
   "metadata": {},
   "outputs": [],
   "source": [
    "import nltk\n",
    "import string\n",
    "import numpy as np\n",
    "import pandas as pd\n",
    "import re\n",
    "from nltk.stem.snowball import SnowballStemmer\n",
    "from nltk.corpus import stopwords\n",
    "from sklearn.feature_extraction.text import CountVectorizer\n",
    "from sklearn.feature_extraction.text import TfidfVectorizer\n",
    "from sklearn.model_selection import train_test_split\n",
    "from sklearn.naive_bayes import MultinomialNB\n",
    "from sklearn.metrics import confusion_matrix, classification_report\n",
    "\n",
    "from sklearn.manifold import TSNE"
   ]
  },
  {
   "cell_type": "code",
   "execution_count": 44,
   "metadata": {},
   "outputs": [],
   "source": [
    "top_reviews_es = reviews[(reviews['rating'] >= 4) & (reviews['language'] == 'es')]\n",
    "poor_reviews_es = reviews[(reviews['rating'] <= 2) & (reviews['language'] == 'es')]\n",
    "polarized_reviews = pd.concat([top_reviews_es, poor_reviews_es])"
   ]
  },
  {
   "cell_type": "code",
   "execution_count": 45,
   "metadata": {},
   "outputs": [],
   "source": [
    "X = polarized_reviews['text']\n",
    "y = polarized_reviews['rating'].apply(lambda x: 1 if x >= 4 else 0)"
   ]
  },
  {
   "cell_type": "code",
   "execution_count": 46,
   "metadata": {},
   "outputs": [],
   "source": [
    "def clean_text(text):\n",
    "    \n",
    "    ## Remove puncuation\n",
    "    text = text.translate(string.punctuation)\n",
    "    \n",
    "    ## Convert words to lower case and split them\n",
    "    text = text.lower().split()\n",
    "    \n",
    "    ## Remove stop words\n",
    "    stops = set(stopwords.words(\"spanish\"))\n",
    "    text = [w for w in text if not w in stops and len(w) >= 3]\n",
    "    \n",
    "    text = \" \".join(text)\n",
    "    \n",
    "    ## Clean text\n",
    "    text = re.sub(r\"[^A-Za-z0-9^,!.\\/'+-=]\", \" \", text)\n",
    "    text = re.sub(r\",\", \" \", text)\n",
    "    text = re.sub(r\"\\.\", \" \", text)\n",
    "    text = re.sub(r\"!\", \" ! \", text)\n",
    "    text = re.sub(r\"\\/\", \" \", text)\n",
    "    text = re.sub(r\"\\^\", \" ^ \", text)\n",
    "    text = re.sub(r\"\\+\", \" + \", text)\n",
    "    text = re.sub(r\"\\-\", \" - \", text)\n",
    "    text = re.sub(r\"\\=\", \" = \", text)\n",
    "    text = re.sub(r\"'\", \" \", text)\n",
    "    text = re.sub(r\"(\\d+)(k)\", r\"\\g<1>000\", text)\n",
    "    text = re.sub(r\":\", \" : \", text)\n",
    "    text = re.sub(r\"e - mail\", \"email\", text)\n",
    "    text = re.sub(r\"\\s{2,}\", \" \", text)\n",
    "    \n",
    "    ## Stemming\n",
    "    text = text.split()\n",
    "    stemmer = SnowballStemmer('spanish')\n",
    "    stemmed_words = [stemmer.stem(word) for word in text]\n",
    "    return stemmed_words"
   ]
  },
  {
   "cell_type": "code",
   "execution_count": 47,
   "metadata": {},
   "outputs": [
    {
     "name": "stdout",
     "output_type": "stream",
     "text": [
      "CPU times: user 24min 40s, sys: 29 s, total: 25min 9s\n",
      "Wall time: 49min 8s\n"
     ]
    }
   ],
   "source": [
    "%%time\n",
    "bow_transformer = CountVectorizer(analyzer=clean_text).fit(X)\n",
    "X_bow = bow_transformer.transform(X)"
   ]
  },
  {
   "cell_type": "code",
   "execution_count": 48,
   "metadata": {},
   "outputs": [
    {
     "name": "stdout",
     "output_type": "stream",
     "text": [
      "CPU times: user 24min 51s, sys: 29.7 s, total: 25min 20s\n",
      "Wall time: 25min 23s\n"
     ]
    }
   ],
   "source": [
    "%%time\n",
    "tf_transformer = TfidfVectorizer(analyzer=clean_text).fit(X)\n",
    "X_tf = tf_transformer.transform(X)"
   ]
  },
  {
   "cell_type": "code",
   "execution_count": 49,
   "metadata": {},
   "outputs": [],
   "source": [
    "X_bow_train, X_bow_test, y_bow_train, y_bow_test = train_test_split(X_bow, y, test_size=0.3, random_state=101)"
   ]
  },
  {
   "cell_type": "code",
   "execution_count": 50,
   "metadata": {},
   "outputs": [],
   "source": [
    "X_tf_train, X_tf_test, y_tf_train, y_tf_test = train_test_split(X_tf, y, test_size=0.3, random_state=101)"
   ]
  },
  {
   "cell_type": "code",
   "execution_count": 51,
   "metadata": {},
   "outputs": [
    {
     "name": "stdout",
     "output_type": "stream",
     "text": [
      "             precision    recall  f1-score   support\n",
      "\n",
      "          0       0.84      0.87      0.85     34239\n",
      "          1       0.98      0.97      0.97    193043\n",
      "\n",
      "avg / total       0.96      0.96      0.96    227282\n",
      "\n"
     ]
    }
   ],
   "source": [
    "nb_bow = MultinomialNB()\n",
    "nb_bow.fit(X_bow_train, y_bow_train)\n",
    "preds_bow = nb_bow.predict(X_bow_test)\n",
    "print(classification_report(y_bow_test, preds_bow))"
   ]
  },
  {
   "cell_type": "code",
   "execution_count": 52,
   "metadata": {},
   "outputs": [
    {
     "name": "stdout",
     "output_type": "stream",
     "text": [
      "             precision    recall  f1-score   support\n",
      "\n",
      "          0       0.97      0.47      0.64     34239\n",
      "          1       0.91      1.00      0.95    193043\n",
      "\n",
      "avg / total       0.92      0.92      0.91    227282\n",
      "\n"
     ]
    }
   ],
   "source": [
    "nb_tf = MultinomialNB()\n",
    "nb_tf.fit(X_tf_train, y_tf_train)\n",
    "preds_tf = nb_tf.predict(X_tf_test)\n",
    "print(classification_report(y_tf_test, preds_tf))"
   ]
  },
  {
   "cell_type": "code",
   "execution_count": 53,
   "metadata": {},
   "outputs": [],
   "source": [
    "def plot_confusion_matrix(cm, classes,\n",
    "                          normalize=False,\n",
    "                          title='Confusion matrix',\n",
    "                          cmap=plt.cm.Blues):\n",
    "    \"\"\"\n",
    "    This function prints and plots the confusion matrix.\n",
    "    Normalization can be applied by setting `normalize=True`.\n",
    "    \"\"\"\n",
    "    if normalize:\n",
    "        cm = cm.astype('float') / cm.sum(axis=1)[:, np.newaxis]\n",
    "        print(\"Normalized confusion matrix\")\n",
    "    else:\n",
    "        print('Confusion matrix, without normalization')\n",
    "\n",
    "    print(cm)\n",
    "\n",
    "    plt.imshow(cm, interpolation='nearest', cmap=cmap)\n",
    "    plt.title(title)\n",
    "    plt.colorbar()\n",
    "    tick_marks = np.arange(len(classes))\n",
    "    plt.xticks(tick_marks, classes, rotation=45)\n",
    "    plt.yticks(tick_marks, classes)\n",
    "\n",
    "    fmt = '.2f' if normalize else 'd'\n",
    "    thresh = cm.max() / 2.\n",
    "    for i, j in itertools.product(range(cm.shape[0]), range(cm.shape[1])):\n",
    "        plt.text(j, i, format(cm[i, j], fmt),\n",
    "                 horizontalalignment=\"center\",\n",
    "                 color=\"white\" if cm[i, j] > thresh else \"black\")\n",
    "\n",
    "    plt.tight_layout()\n",
    "    plt.ylabel('True label')\n",
    "    plt.xlabel('Predicted label')"
   ]
  },
  {
   "cell_type": "code",
   "execution_count": 54,
   "metadata": {},
   "outputs": [],
   "source": [
    "cnf_bow_matrix = confusion_matrix(y_bow_test, preds_bow)"
   ]
  },
  {
   "cell_type": "code",
   "execution_count": 55,
   "metadata": {},
   "outputs": [],
   "source": [
    "cnf_tf_matrix = confusion_matrix(y_tf_test, preds_tf)"
   ]
  },
  {
   "cell_type": "code",
   "execution_count": 56,
   "metadata": {},
   "outputs": [
    {
     "name": "stdout",
     "output_type": "stream",
     "text": [
      "Normalized confusion matrix\n",
      "[[ 0.86737346  0.13262654]\n",
      " [ 0.0290298   0.9709702 ]]\n"
     ]
    },
    {
     "data": {
      "image/png": "[encoded data removed]",
      "text/plain": [
       "<matplotlib.figure.Figure at 0x1b15c0c898>"
      ]
     },
     "metadata": {},
     "output_type": "display_data"
    }
   ],
   "source": [
    "plot_confusion_matrix(cnf_bow_matrix, classes=['Negative','Positive'], normalize=True,\n",
    "                      title='Normalized confusion matrix BoW')"
   ]
  },
  {
   "cell_type": "code",
   "execution_count": 65,
   "metadata": {},
   "outputs": [
    {
     "name": "stdout",
     "output_type": "stream",
     "text": [
      "Confusion matrix, without normalization\n",
      "[[ 29698   4541]\n",
      " [  5604 187439]]\n"
     ]
    },
    {
     "data": {
      "image/png": "[encoded data removed]",
      "text/plain": [
       "<matplotlib.figure.Figure at 0x1b15edbc50>"
      ]
     },
     "metadata": {},
     "output_type": "display_data"
    }
   ],
   "source": [
    "plot_confusion_matrix(cnf_bow_matrix, classes=['Negative','Positive'], normalize=False,\n",
    "                      title='NOT Normalized confusion matrix BoW')"
   ]
  },
  {
   "cell_type": "code",
   "execution_count": 66,
   "metadata": {},
   "outputs": [
    {
     "name": "stdout",
     "output_type": "stream",
     "text": [
      "Normalized confusion matrix\n",
      "[[ 0.86737346  0.13262654]\n",
      " [ 0.0290298   0.9709702 ]]\n"
     ]
    },
    {
     "data": {
      "image/png": "[encoded data removed]",
      "text/plain": [
       "<matplotlib.figure.Figure at 0x1b15f33dd8>"
      ]
     },
     "metadata": {},
     "output_type": "display_data"
    }
   ],
   "source": [
    "plot_confusion_matrix(cnf_bow_matrix, classes=['Negative','Positive'], normalize=True,\n",
    "                      title='Normalized confusion matrix TFIDF')"
   ]
  },
  {
   "cell_type": "code",
   "execution_count": 63,
   "metadata": {},
   "outputs": [
    {
     "name": "stdout",
     "output_type": "stream",
     "text": [
      "Confusion matrix, without normalization\n",
      "[[ 29698   4541]\n",
      " [  5604 187439]]\n"
     ]
    },
    {
     "data": {
      "image/png": "[encoded data removed]",
      "text/plain": [
       "<matplotlib.figure.Figure at 0x1b15e01a90>"
      ]
     },
     "metadata": {},
     "output_type": "display_data"
    }
   ],
   "source": [
    "plot_confusion_matrix(cnf_bow_matrix, classes=['Negative','Positive'], normalize=False,\n",
    "                      title='NOT Normalized confusion matrix TFIDF')"
   ]
  },
  {
   "cell_type": "code",
   "execution_count": 60,
   "metadata": {},
   "outputs": [
    {
     "data": {
      "text/plain": [
       "0"
      ]
     },
     "execution_count": 60,
     "metadata": {},
     "output_type": "execute_result"
    }
   ],
   "source": [
    "negative_review_transformed = bow_transformer.transform(['La carne estaba muy hecha y el camarero nos atendió con desprecio'])\n",
    "nb_bow.predict(negative_review_transformed)[0]"
   ]
  },
  {
   "cell_type": "code",
   "execution_count": 61,
   "metadata": {},
   "outputs": [
    {
     "data": {
      "text/plain": [
       "1"
      ]
     },
     "execution_count": 61,
     "metadata": {},
     "output_type": "execute_result"
    }
   ],
   "source": [
    "positive_review_transformed = bow_transformer.transform(['Nos gustó mucho el sitio. Recomendable la pizza barbacoa'])\n",
    "nb_bow.predict(positive_review_transformed)[0]"
   ]
  }
 ],
 "metadata": {
  "kernelspec": {
   "display_name": "Python [conda env:anaconda3]",
   "language": "python",
   "name": "conda-env-anaconda3-py"
  },
  "language_info": {
   "codemirror_mode": {
    "name": "ipython",
    "version": 3
   },
   "file_extension": ".py",
   "mimetype": "text/x-python",
   "name": "python",
   "nbconvert_exporter": "python",
   "pygments_lexer": "ipython3",
   "version": "3.6.3"
  }
 },
 "nbformat": 4,
 "nbformat_minor": 2
}
